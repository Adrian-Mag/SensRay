{
 "cells": [
  {
   "cell_type": "markdown",
   "id": "74f93cee",
   "metadata": {},
   "source": [
    "# SensRay Moon model/mesh generation with computation of travel times from sensitivity kernels\n",
    "\n",
    "This notebook demonstrates the generation of a moon model :\n",
    "- Creating Moon models (M1, M2, M3, weber_core_smooth, weber_core)\n",
    "- Creating tetrahedral meshes using model discontinuities and parameters\n",
    "- Populating seismic properties\n",
    "- Basic visualization and cross-sections\n",
    "- Sources, receivers, and phases with rays computed\n",
    "- Computation and visualization of sensitivity kernels and ray paths\n",
    "- Sparse G matrix calculation\n",
    "- Delta V function generation, projection, and visualisation\n",
    "- Computation of travel times using dv with G"
   ]
  },
  {
   "cell_type": "code",
   "execution_count": 1,
   "id": "407115d6",
   "metadata": {},
   "outputs": [],
   "source": [
    "import logging\n",
    "from typing import Any, Iterable, List, Tuple\n",
    "\n",
    "import numpy as np\n",
    "from itertools import product\n",
    "from typing import Callable, Union\n",
    "import quadpy\n",
    "from sensray import PlanetModel, CoordinateConverter\n",
    "from GFwdOpClassLinOp import GFwdOp"
   ]
  },
  {
   "cell_type": "markdown",
   "id": "13938331",
   "metadata": {},
   "source": [
    "## 1. Creation of Moon model and mesh\n",
    "\n",
    "Creating a model and mesh for ray tracing"
   ]
  },
  {
   "cell_type": "markdown",
   "id": "e272a409",
   "metadata": {},
   "source": [
    "### Creating model\n",
    "\n",
    "Creating a moon model from information stored in .nd file\n",
    "- User-defined model (model_name), mesh size, and inner core mesh size\n",
    "- Model creation of PlanetModel class"
   ]
  },
  {
   "cell_type": "code",
   "execution_count": 2,
   "id": "11fe0d5e",
   "metadata": {},
   "outputs": [],
   "source": [
    "# User-defined parameters\n",
    "model_name = \"M1\"\n",
    "mesh_size_km = 1000\n",
    "mesh_size_inner_km = 600\n",
    "\n",
    "# Model creation\n",
    "model = PlanetModel(f'../../sensray/models/{model_name}.nd', model_name)"
   ]
  },
  {
   "cell_type": "markdown",
   "id": "59ba91a1",
   "metadata": {},
   "source": [
    "### Creating layered tetrahedral mesh\n",
    "\n",
    "Uses a layered tetrahedral mesh to control resolution across discontinuities\n",
    "- User-defined mesh name\n",
    "- Radii and H_layers gathered from the model properties\n",
    "- Populate mesh properties with vp, vs, rho from the file (also gathered from model)"
   ]
  },
  {
   "cell_type": "code",
   "execution_count": 3,
   "id": "8cae8c0d",
   "metadata": {},
   "outputs": [
    {
     "name": "stdout",
     "output_type": "stream",
     "text": [
      "Loaded mesh from M1_mesh.vtu\n",
      "Loaded metadata: 9975 cells, 2258 points\n",
      "Loaded existing mesh from M1_mesh\n",
      "Created mesh: 9975 cells\n"
     ]
    }
   ],
   "source": [
    "# Create mesh and save if not exist, otherwise load existing\n",
    "mesh_name = \"M1_mesh\"\n",
    "\n",
    "try:\n",
    "    model.create_mesh(from_file=mesh_name)\n",
    "    print(f\"Loaded existing mesh from {mesh_name}\")\n",
    "except FileNotFoundError:\n",
    "    print(\"Creating new mesh...\")\n",
    "    radii = model.get_discontinuities()\n",
    "    H_layers = [mesh_size_km]*(len(radii)-1)+[mesh_size_inner_km]\n",
    "    model.create_mesh(mesh_size_km=mesh_size_km, radii=radii, H_layers=H_layers)\n",
    "    model.mesh.populate_properties(model.get_info()[\"properties\"])\n",
    "    model.mesh.save(f\"{model_name}_mesh\")  # Save mesh to VT\n",
    "print(f\"Created mesh: {model.mesh.mesh.n_cells} cells\")"
   ]
  },
  {
   "cell_type": "markdown",
   "id": "e59c5976",
   "metadata": {},
   "source": [
    "## 2. Define Source-Receiver Geometry\n",
    "\n",
    "Set up realistic earthquake-station-phase and translate to earthquake-station-ray combination(s).\n",
    "\n",
    "In practise this will be created and filtered individually by the user, then passed into the forward operator. "
   ]
  },
  {
   "cell_type": "markdown",
   "id": "2d0bf972",
   "metadata": {},
   "source": [
    "### Point generation\n",
    "\n",
    "Function to generate a point in the model with optional parameters for min/max point type, latitude, longitde, and depth. Alternatively using predefined single source-receiver-phase"
   ]
  },
  {
   "cell_type": "code",
   "execution_count": 4,
   "id": "4dbd214d",
   "metadata": {},
   "outputs": [
    {
     "name": "stdout",
     "output_type": "stream",
     "text": [
      "Source-receiver-phase list generation...\n"
     ]
    }
   ],
   "source": [
    "# function to make points\n",
    "def point(pointType=\"Source\", minLat=-90, maxLat=90, minLon=-180, maxLon=180, minDepth=0, maxDepth=700):\n",
    "    '''\n",
    "    pointType: \"Source\" or \"Receiver\"\n",
    "    For Source: lat, lon, depth\n",
    "    For Receiver: lat, lon\n",
    "    returns: (lat, lon, depth) or (lat, lon)\n",
    "    '''\n",
    "    if pointType == \"Source\":\n",
    "        lat = np.random.uniform(minLat, maxLat)\n",
    "        lon = np.random.uniform(minLon, maxLon)\n",
    "        depth = np.random.uniform(minDepth, maxDepth)  # depth in km\n",
    "        return (lat, lon, depth)\n",
    "    elif pointType == \"Receiver\":\n",
    "        lat = np.random.uniform(minLat, maxLat)\n",
    "        lon = np.random.uniform(minLon, maxLon)\n",
    "        return (lat, lon)\n",
    "    else:\n",
    "        raise ValueError(\"pointType must be 'Source' or 'Receiver'\")\n",
    "\n",
    "\n",
    "print(\"Source-receiver-phase list generation...\")\n",
    "# Generate source and receiver points and combinations\n",
    "# sources = [point(\"Source\", minDepth=150, maxDepth=150) for _ in range(2)]\n",
    "# receivers = [point(\"Receiver\", maxDepth=0) for _ in range(5)]\n",
    "# phases = [\"P\", \"S\", \"ScS\"]\n",
    "# srp = [prod + tuple([phases]) for prod in product(sources, receivers)]\n",
    "\n",
    "# testing with one source-receiver pair - same as initial test\n",
    "source_lat, source_lon, source_depth = 0.0, 0.0, 150.0  # Equator, 150 km depth\n",
    "receiver_lat, receiver_lon = 30.0, 45.0  # Surface station\n",
    "srp = [((source_lat, source_lon, source_depth), (receiver_lat, receiver_lon), [\"P\", \"S\", \"ScS\"])]"
   ]
  },
  {
   "cell_type": "markdown",
   "id": "4d904c79",
   "metadata": {},
   "source": [
    "### Ray tracing with taup\n",
    "\n",
    "Function to generate a ray using taup for each phase of interest for each source-receiver pair. Save as a list of lists of [source-receiver-ray] to be passed into the forward operatot"
   ]
  },
  {
   "cell_type": "code",
   "execution_count": 5,
   "id": "066a274b",
   "metadata": {},
   "outputs": [
    {
     "name": "stdout",
     "output_type": "stream",
     "text": [
      "Compute ray for each source-receiver-phase combination...\n",
      "Building obspy.taup model for '../../sensray/models/M1.nd' ...\n",
      "filename = ../../sensray/models/M1.nd\n",
      "Done reading velocity model.\n",
      "Radius of model . is 1737.1\n",
      "Using parameters provided in TauP_config.ini (or defaults if not) to call SlownessModel...\n",
      "Parameters are:\n",
      "taup.create.min_delta_p = 0.1 sec / radian\n",
      "taup.create.max_delta_p = 11.0 sec / radian\n",
      "taup.create.max_depth_interval = 115.0 kilometers\n",
      "taup.create.max_range_interval = 0.04363323129985824 degrees\n",
      "taup.create.max_interp_error = 0.05 seconds\n",
      "taup.create.allow_inner_core_s = True\n",
      "Slow model  643 P layers,747 S layers\n",
      "Done calculating Tau branches.\n",
      "Done Saving /tmp/M1.npz\n",
      "Method run is done, but not necessarily successful.\n"
     ]
    }
   ],
   "source": [
    "def get_rays(srp):\n",
    "    '''\n",
    "    srp: list of tuples (source, receiver, phases)\n",
    "    where source = (lat, lon, depth), receiver = (lat, lon), phases = [phase1, phase2, ...]\n",
    "    returns array of (source, receiver, ray) for each ray\n",
    "    '''\n",
    "    srr_list = []\n",
    "    for (source, receiver, phases) in srp:\n",
    "        rays = model.taupy_model.get_ray_paths_geo(\n",
    "            source_depth_in_km=source[2],\n",
    "            source_latitude_in_deg=source[0],\n",
    "            source_longitude_in_deg=source[1],\n",
    "            receiver_latitude_in_deg=receiver[0],\n",
    "            receiver_longitude_in_deg=receiver[1],\n",
    "            phase_list=phases,\n",
    "        )\n",
    "        for ray in rays:\n",
    "            srr_list.append((source, receiver, ray))\n",
    "\n",
    "    return np.array(srr_list, dtype=object)\n",
    "\n",
    "\n",
    "print(\"Compute ray for each source-receiver-phase combination...\")\n",
    "srr = get_rays(srp)"
   ]
  },
  {
   "cell_type": "markdown",
   "id": "134c67a2",
   "metadata": {},
   "source": [
    "## 3. Compute sensitivity kernels and G matrix\n",
    "\n",
    "Compute travel-time sensitivity kernels: K = -L / v² for each ray using GFwdOp(LinearOperator) and store as a sparse G matrix"
   ]
  },
  {
   "cell_type": "code",
   "execution_count": 6,
   "id": "7b4edc83",
   "metadata": {},
   "outputs": [
    {
     "name": "stdout",
     "output_type": "stream",
     "text": [
      "Calculate sensitivity kernels and sparse G matrix...\n",
      "Stored sensitivity kernel as cell data: 'K_P_vp'\n",
      "Stored sensitivity kernel as cell data: 'K_S_vs'\n",
      "Stored sensitivity kernel as cell data: 'K_ScS_vs'\n",
      "Stored sensitivity kernel as cell data: 'K_S_vs'\n",
      "Stored sensitivity kernel as cell data: 'K_ScS_vs'\n",
      "P Kernel Matrix shape: (1, 9975), nnz: 24\n",
      "S Kernel Matrix shape: (2, 9975), nnz: 59\n",
      "ScS Kernel Matrix shape: (2, 9975), nnz: 122\n"
     ]
    }
   ],
   "source": [
    "print(\"Calculate sensitivity kernels and sparse G matrix...\")\n",
    "G = GFwdOp(model, srr[:,2])"
   ]
  },
  {
   "cell_type": "markdown",
   "id": "71b0dd37",
   "metadata": {},
   "source": [
    "# 4. Create Dv and apply to G\n",
    "\n",
    "Create vectorized scalar field from radial and angular functions R(r), T(θ,φ) then project onto the mesh. Apply Dv to G to compute travel times."
   ]
  },
  {
   "cell_type": "markdown",
   "id": "bdddc6ea",
   "metadata": {},
   "source": [
    "### Scalar field generation\n",
    "\n",
    "Function to convert radial and angular functions to a vectorized scalar function in f(x,y,z)"
   ]
  },
  {
   "cell_type": "code",
   "execution_count": 7,
   "id": "36bfd18a",
   "metadata": {},
   "outputs": [
    {
     "name": "stdout",
     "output_type": "stream",
     "text": [
      "Scalar function generation...\n"
     ]
    }
   ],
   "source": [
    "Number = Union[float, int]\n",
    "\n",
    "def make_scalar_field(\n",
    "    R: Callable[[np.ndarray], np.ndarray],\n",
    "    T: Callable[[np.ndarray, np.ndarray], np.ndarray],\n",
    ") -> Callable[[Union[np.ndarray, list, tuple, Number], Union[Number, None], Union[Number, None]], np.ndarray]:\n",
    "    \"\"\"\n",
    "    Creates a scalar field f(x, y, z) = R(r) * T(theta, phi),\n",
    "    vectorized to work with quadpy (input shape (3, n_points)).\n",
    "\n",
    "    Parameters\n",
    "    ----------\n",
    "    R : callable\n",
    "        Radial function R(r)\n",
    "    T : callable\n",
    "        Angular function T(theta, phi)\n",
    "\n",
    "    Returns\n",
    "    -------\n",
    "    f : callable\n",
    "        Vectorized scalar field f(x, y, z)\n",
    "    \"\"\"\n",
    "\n",
    "    def f(x, y=None, z=None):\n",
    "        # Case 1: quadpy-style call, x is (3, n_points)\n",
    "        if y is None and z is None:\n",
    "            x = np.asarray(x)\n",
    "            # Accept (3, n_points) or (n_points, 3)\n",
    "            if x.ndim == 2 and x.shape[0] == 3:\n",
    "                X, Y, Z = x[0], x[1], x[2]\n",
    "            elif x.ndim == 2 and x.shape[1] == 3:\n",
    "                X, Y, Z = x[:, 0], x[:, 1], x[:, 2]\n",
    "            elif x.shape == (3,):\n",
    "                X, Y, Z = x\n",
    "            else:\n",
    "                raise ValueError(f\"Unexpected input shape: {x.shape}\")\n",
    "        else:\n",
    "            # Case 2: standard call f(x, y, z)\n",
    "            X = np.asarray(x)\n",
    "            Y = np.asarray(y)\n",
    "            Z = np.asarray(z)\n",
    "\n",
    "        # Convert Cartesian to spherical\n",
    "        r = np.sqrt(X**2 + Y**2 + Z**2)\n",
    "        theta = np.where(r == 0, 0.0, np.arccos(np.clip(Z / r, -1.0, 1.0)))\n",
    "        phi = np.mod(np.arctan2(Y, X), 2*np.pi)\n",
    "\n",
    "        return R(r) * T(theta, phi)\n",
    "\n",
    "    return f\n",
    "\n",
    "print(f\"Scalar function generation...\")\n",
    "# make function for velocity perturbation\n",
    "# Define R(r) and T(theta, phi)\n",
    "# R = lambda r: r**2 * np.exp(-r/100000)\n",
    "# T = lambda theta, phi: np.cos(theta)\n",
    "\n",
    "R = lambda r: np.ones_like(r)\n",
    "T = lambda theta, phi: np.ones_like(theta)\n",
    "\n",
    "f = make_scalar_field(R, T)"
   ]
  },
  {
   "cell_type": "markdown",
   "id": "6a1274fb",
   "metadata": {},
   "source": [
    "### Dv mesh projection and visualisation\n",
    "\n",
    "Project scalar field onto the mesh to calculate dv"
   ]
  },
  {
   "cell_type": "code",
   "execution_count": 8,
   "id": "dae9f2b3",
   "metadata": {},
   "outputs": [
    {
     "name": "stdout",
     "output_type": "stream",
     "text": [
      "Dv projection onto mesh...\n"
     ]
    },
    {
     "ename": "AttributeError",
     "evalue": "'PlanetMesh' object has no attribute 'project_function_on_mesh'",
     "output_type": "error",
     "traceback": [
      "\u001b[31m---------------------------------------------------------------------------\u001b[39m",
      "\u001b[31mAttributeError\u001b[39m                            Traceback (most recent call last)",
      "\u001b[36mCell\u001b[39m\u001b[36m \u001b[39m\u001b[32mIn[8]\u001b[39m\u001b[32m, line 2\u001b[39m\n\u001b[32m      1\u001b[39m \u001b[38;5;28mprint\u001b[39m(\u001b[33m\"\u001b[39m\u001b[33mDv projection onto mesh...\u001b[39m\u001b[33m\"\u001b[39m)\n\u001b[32m----> \u001b[39m\u001b[32m2\u001b[39m \u001b[43mmodel\u001b[49m\u001b[43m.\u001b[49m\u001b[43mmesh\u001b[49m\u001b[43m.\u001b[49m\u001b[43mproject_function_on_mesh\u001b[49m(f, property_name=\u001b[33m\"\u001b[39m\u001b[33mdv\u001b[39m\u001b[33m\"\u001b[39m)\n",
      "\u001b[31mAttributeError\u001b[39m: 'PlanetMesh' object has no attribute 'project_function_on_mesh'"
     ]
    }
   ],
   "source": [
    "print(\"Dv projection onto mesh...\")\n",
    "model.mesh.project_function_on_mesh(f, property_name=\"dv\")"
   ]
  },
  {
   "cell_type": "markdown",
   "id": "7aef2392",
   "metadata": {},
   "source": [
    "Visualise dv field using function and first source-receiver pair for sphere slice"
   ]
  },
  {
   "cell_type": "code",
   "execution_count": null,
   "id": "5823d5bf",
   "metadata": {},
   "outputs": [],
   "source": [
    "def display_dv(source_lat, source_lon, receiver_lat, receiver_lon):\n",
    "    '''\n",
    "    Display the dv property on a cross-section plane defined by source and receiver\n",
    "    '''\n",
    "    plane_normal = CoordinateConverter.compute_gc_plane_normal(\n",
    "        source_lat, source_lon, receiver_lat, receiver_lon\n",
    "    )\n",
    "\n",
    "    # Cross-section showing background Vp\n",
    "    print(\"Projected Dv velocity:\")\n",
    "    plane_normal = plane_normal\n",
    "    plotter1 = model.mesh.plot_cross_section(\n",
    "        plane_normal=plane_normal,\n",
    "        property_name='dv',\n",
    "    )\n",
    "    plotter1.camera.position = (8000, 6000, 10000)\n",
    "    plotter1.show()\n",
    "\n",
    "\n",
    "print(\"Dv visualization...\")\n",
    "display_dv(srr[0,0][0], srr[0,0][1], srr[0,1][0], srr[0,1][1])"
   ]
  },
  {
   "cell_type": "markdown",
   "id": "adee95aa",
   "metadata": {},
   "source": [
    "### Time travel computation\n",
    "\n",
    "Apply dv to G forward operator to compute travel times."
   ]
  },
  {
   "cell_type": "code",
   "execution_count": null,
   "id": "cfa03b30",
   "metadata": {},
   "outputs": [],
   "source": [
    "print(\"Time travel computation...\")\n",
    "travel_times = G.__apply__(model.mesh.mesh.cell_data[\"dv\"])\n",
    "print(travel_times)"
   ]
  }
 ],
 "metadata": {
  "kernelspec": {
   "display_name": "masters-project",
   "language": "python",
   "name": "python3"
  },
  "language_info": {
   "codemirror_mode": {
    "name": "ipython",
    "version": 3
   },
   "file_extension": ".py",
   "mimetype": "text/x-python",
   "name": "python",
   "nbconvert_exporter": "python",
   "pygments_lexer": "ipython3",
   "version": "3.11.13"
  }
 },
 "nbformat": 4,
 "nbformat_minor": 5
}
