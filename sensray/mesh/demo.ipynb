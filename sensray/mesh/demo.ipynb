{
 "cells": [
  {
   "cell_type": "code",
   "execution_count": 1,
   "id": "5a65e7fb",
   "metadata": {},
   "outputs": [],
   "source": [
    "from sensray.mesh.earth_model import MeshEarthModel"
   ]
  },
  {
   "cell_type": "code",
   "execution_count": 2,
   "id": "1de95ee1",
   "metadata": {},
   "outputs": [],
   "source": [
    "model_name = 'prem'\n",
    "mesh_model = MeshEarthModel.from_pygmsh_sphere(mesh_size_km=500)"
   ]
  },
  {
   "cell_type": "code",
   "execution_count": 3,
   "id": "6435f820",
   "metadata": {},
   "outputs": [
    {
     "data": {
      "text/plain": [
       "array([3.30908708, 3.30908708, 3.30908708, ..., 4.45405724, 3.2       ,\n",
       "       3.2       ], shape=(46781,))"
      ]
     },
     "execution_count": 3,
     "metadata": {},
     "output_type": "execute_result"
    }
   ],
   "source": [
    "mesh_model.add_scalar_from_1d_model(model_name, property_name='vs')"
   ]
  },
  {
   "cell_type": "code",
   "execution_count": 4,
   "id": "8d1463db",
   "metadata": {},
   "outputs": [],
   "source": [
    "mesh_model.plot_sphere(radius_km=5000, scalar_name='vs', wireframe=True).show()"
   ]
  },
  {
   "cell_type": "code",
   "execution_count": 5,
   "id": "6c01167a",
   "metadata": {},
   "outputs": [],
   "source": [
    "source_lat, source_lon = 0.0, 0.0\n",
    "source_depth = 30.0\n",
    "receiver_lat, receiver_lon = 0.0, 100.0\n",
    "p = mesh_model.plot_slice(\n",
    "    source_lat=source_lat,\n",
    "    source_lon=source_lon,\n",
    "    receiver_lat=receiver_lat,\n",
    "    receiver_lon=receiver_lon,\n",
    "    scalar_name='vs',\n",
    "    cmap='RdBu',\n",
    "    wireframe=True,\n",
    ")\n",
    "p.show()"
   ]
  }
 ],
 "metadata": {
  "kernelspec": {
   "display_name": "masters",
   "language": "python",
   "name": "python3"
  },
  "language_info": {
   "codemirror_mode": {
    "name": "ipython",
    "version": 3
   },
   "file_extension": ".py",
   "mimetype": "text/x-python",
   "name": "python",
   "nbconvert_exporter": "python",
   "pygments_lexer": "ipython3",
   "version": "3.11.9"
  }
 },
 "nbformat": 4,
 "nbformat_minor": 5
}
