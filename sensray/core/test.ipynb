{
 "cells": [
  {
   "cell_type": "code",
   "execution_count": 12,
   "id": "aa95aba7",
   "metadata": {},
   "outputs": [],
   "source": [
    "from sensray import RayPathTracer"
   ]
  },
  {
   "cell_type": "code",
   "execution_count": 13,
   "id": "1811fc49",
   "metadata": {},
   "outputs": [],
   "source": [
    "tracer = RayPathTracer(model_name=\"iasp91\")"
   ]
  },
  {
   "cell_type": "code",
   "execution_count": 15,
   "id": "1a278094",
   "metadata": {},
   "outputs": [
    {
     "data": {
      "text/plain": [
       "([<obspy.taup.helper_classes.Arrival object at 0x7fa892c52c10>, <obspy.taup.helper_classes.Arrival object at 0x7fa891f0d190>],\n",
       " {'input_type': 'distance_only',\n",
       "  'source_coords': (0.0, 0.0, 100),\n",
       "  'receiver_coords': (np.float64(1.83697019872103e-15), np.float64(30.0), 0.0),\n",
       "  'distance_deg': 30,\n",
       "  'distance_km': 3339.6,\n",
       "  'azimuth': 90.0,\n",
       "  'back_azimuth': 270.0,\n",
       "  'output_geographic': True})"
      ]
     },
     "execution_count": 15,
     "metadata": {},
     "output_type": "execute_result"
    }
   ],
   "source": [
    "tracer.get_ray_paths(source_depth=100, distance_deg=30, phases=[\"P\", \"S\"])"
   ]
  }
 ],
 "metadata": {
  "kernelspec": {
   "display_name": "masters",
   "language": "python",
   "name": "python3"
  },
  "language_info": {
   "codemirror_mode": {
    "name": "ipython",
    "version": 3
   },
   "file_extension": ".py",
   "mimetype": "text/x-python",
   "name": "python",
   "nbconvert_exporter": "python",
   "pygments_lexer": "ipython3",
   "version": "3.11.13"
  }
 },
 "nbformat": 4,
 "nbformat_minor": 5
}
