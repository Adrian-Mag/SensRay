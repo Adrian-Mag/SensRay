{
 "cells": [
  {
   "cell_type": "markdown",
   "id": "a7866c00",
   "metadata": {},
   "source": [
    "# SensRay Package Demonstrations\n",
    "\n",
    "Welcome to the demonstration suite for the `sensray` package. This collection of Jupyter notebooks showcases the capabilities of `sensray` for seismic ray tracing, travel time calculations, and tomographic applications.\n",
    "\n",
    "## Quick Start\n",
    "\n",
    "If you're new to sensray, we recommend following the notebooks in order:"
   ]
  },
  {
   "cell_type": "markdown",
   "id": "cd9d5cd5",
   "metadata": {},
   "source": [
    "## 📚 Notebook Collection\n",
    "\n",
    "### [01_basic_travel_times.ipynb](01_basic_travel_times.ipynb)\n",
    "**🧮 Foundation | ⏱️ 20-30 minutes**\n",
    "\n",
    "Start here! Learn the basics of travel time calculation:\n",
    "- Calculate P and S wave travel times\n",
    "- Understand seismic phases\n",
    "- Basic distance-time relationships\n",
    "- Introduction to Earth models\n",
    "\n",
    "**Perfect for:** Beginners, getting familiar with seismic concepts\n",
    "\n",
    "---\n",
    "\n",
    "### [02_ray_path_visualization.ipynb](02_ray_path_visualization.ipynb)\n",
    "**🌍 Visualization | ⏱️ 30-40 minutes**\n",
    "\n",
    "Extract and visualize seismic ray paths in 2D cross-sections:\n",
    "- Extract seismic ray paths\n",
    "- Create circular Earth cross-sections\n",
    "- Analyze ray properties and geometry\n",
    "- Compare different seismic phases\n",
    "\n",
    "**Perfect for:** Understanding wave propagation, creating publication-quality figures\n",
    "\n",
    "---\n",
    "\n",
    "### [03_earth_model_comparison.ipynb](03_earth_model_comparison.ipynb)\n",
    "**🔍 Model Analysis | ⏱️ 25-35 minutes**\n",
    "\n",
    "Deep dive into Earth model differences and statistical analysis:\n",
    "- Compare velocity structures between IASP91, PREM, and AK135\n",
    "- Analyze travel time differences between models\n",
    "- Statistical comparison of model predictions\n",
    "- Understand model selection impacts\n",
    "- Ray path comparison between models\n",
    "\n",
    "**Perfect for:** Research applications, understanding model limitations\n",
    "\n",
    "---\n",
    "\n",
    "### [04_3d_plots.ipynb](04_3d_plots.ipynb)\n",
    "**🌐 3D Visualization | ⏱️ 20-30 minutes**\n",
    "\n",
    "Explore interactive 3D visualizations using PyVista:\n",
    "- 1D Earth model velocity profiles  \n",
    "- Geographic ray paths in true 3D space\n",
    "- Interactive Earth sphere with continent outlines\n",
    "- Multiple seismic phases in 3D geometry\n",
    "- PyVista-based scientific visualization\n",
    "\n",
    "**Perfect for:** Interactive exploration, presentation-quality 3D graphics\n",
    "\n",
    "---\n",
    "\n",
    "### [05_earth_meshing.ipynb](05_earth_meshing.ipynb)\n",
    "**🔲 Meshing & Discretization | ⏱️ 30-40 minutes**\n",
    "\n",
    "Learn Earth discretization and meshing for tomography:\n",
    "- Create spherical and regional meshes\n",
    "- Add velocity properties to mesh nodes\n",
    "- Visualize meshes in 2D and 3D\n",
    "- Save and load mesh data\n",
    "- Prepare meshes for tomographic inversion\n",
    "\n",
    "**Perfect for:** Tomography applications, finite element modeling, mesh generation\n",
    "\n",
    "---\n",
    "\n",
    "### [ray_tracing_tutorial.ipynb](ray_tracing_tutorial.ipynb)\n",
    "**🎯 Tutorial | ⏱️ Variable**\n",
    "\n",
    "Additional tutorial content for ray tracing concepts.\n",
    "\n",
    "---"
   ]
  },
  {
   "cell_type": "markdown",
   "id": "0b181e7d",
   "metadata": {},
   "source": [
    "## 🛠️ Setup and Requirements\n",
    "\n",
    "Before running the notebooks, ensure you have the required dependencies:"
   ]
  },
  {
   "cell_type": "code",
   "execution_count": null,
   "id": "6dcac3da",
   "metadata": {},
   "outputs": [
    {
     "name": "stdout",
     "output_type": "stream",
     "text": [
      "✅ sensray package successfully imported!\n",
      "✅ You're ready to run the demonstrations.\n",
      "✅ Quick test passed: Found 2 seismic phases.\n"
     ]
    }
   ],
   "source": [
    "# Test your installation\n",
    "import sys\n",
    "import os\n",
    "\n",
    "# Add the parent directory to path\n",
    "sys.path.append(os.path.dirname(os.getcwd()))\n",
    "\n",
    "try:\n",
    "    from sensray import (TravelTimeCalculator, RayPathTracer, EarthPlotter,\n",
    "                        MeshManager, MeshPlotter)\n",
    "    print(\"✅ sensray package successfully imported!\")\n",
    "    print(\"✅ Core classes available: TravelTimeCalculator, RayPathTracer, EarthPlotter\")\n",
    "    print(\"✅ Meshing classes available: MeshManager, MeshPlotter\")\n",
    "    print(\"✅ You're ready to run the demonstrations.\")\n",
    "\n",
    "    # Quick test\n",
    "    calc = TravelTimeCalculator('iasp91')\n",
    "    times = calc.calculate_travel_times(10, 30)\n",
    "    print(f\"✅ Quick test passed: Found {len(times)} seismic phases.\")\n",
    "\n",
    "except ImportError as e:\n",
    "    print(f\"❌ Import error: {e}\")\n",
    "    print(\"Please install the sensray package and its dependencies.\")\n",
    "except Exception as e:\n",
    "    print(f\"⚠️ Warning: {e}\")\n",
    "    print(\"Package imported but test failed. Some features may not work.\")"
   ]
  }
 ],
 "metadata": {
  "kernelspec": {
   "display_name": "masters",
   "language": "python",
   "name": "python3"
  },
  "language_info": {
   "codemirror_mode": {
    "name": "ipython",
    "version": 3
   },
   "file_extension": ".py",
   "mimetype": "text/x-python",
   "name": "python",
   "nbconvert_exporter": "python",
   "pygments_lexer": "ipython3",
   "version": "3.11.13"
  }
 },
 "nbformat": 4,
 "nbformat_minor": 5
}
