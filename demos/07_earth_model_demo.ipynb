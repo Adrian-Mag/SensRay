{
 "cells": [
  {
   "cell_type": "markdown",
   "id": "fed531ee",
   "metadata": {},
   "source": [
    "# SensRay MeshEarthModel Demo\n",
    "\n",
    "This demo showcases the core features of `MeshEarthModel`:\n",
    "- Build a tetrahedral sphere mesh\n",
    "- Map properties from a 1D Earth model (e.g., PREM) onto mesh cells\n",
    "- Visualize constant-per-cell values on a spherical shell and on great-circle slices\n",
    "- Compute per-cell path lengths for a synthetic ray and derive sensitivity kernels\n",
    "- Overlay points (e.g., source and receiver) on plots"
   ]
  },
  {
   "cell_type": "code",
   "execution_count": 1,
   "id": "e5d06905",
   "metadata": {},
   "outputs": [],
   "source": [
    "import numpy as np\n",
    "from sensray.mesh.earth_model import MeshEarthModel\n",
    "from sensray.core.ray_paths import RayPathTracer"
   ]
  },
  {
   "cell_type": "markdown",
   "id": "889bdfd0",
   "metadata": {},
   "source": [
    "## 1) Create a tetrahedral sphere mesh\n",
    "We'll generate a reasonably coarse sphere to keep things fast in a notebook."
   ]
  },
  {
   "cell_type": "code",
   "execution_count": 2,
   "id": "567ba518",
   "metadata": {},
   "outputs": [
    {
     "data": {
      "text/plain": [
       "6371.0"
      ]
     },
     "execution_count": 2,
     "metadata": {},
     "output_type": "execute_result"
    }
   ],
   "source": [
    "# Adjust mesh_size_km to trade accuracy vs speed\n",
    "mesh_model = MeshEarthModel.from_pygmsh_sphere(mesh_size_km=500)\n",
    "mesh_model.radius_km"
   ]
  },
  {
   "cell_type": "markdown",
   "id": "1614ff69",
   "metadata": {},
   "source": [
    "## 2) Visualize the empty mesh\n",
    "\n",
    "Initially there are no values associated with the mesh, but it can still be visualzied. We can visualize either a spherical surface cutting through the mesh, or a great circle slice cutting through the mesh."
   ]
  },
  {
   "cell_type": "code",
   "execution_count": 3,
   "id": "d8c1fa04",
   "metadata": {},
   "outputs": [],
   "source": [
    "# Sphere cut through the mesh at radius 5000 km\n",
    "mesh_model.plot_sphere(radius_km=5000, wireframe=True).show()\n",
    "\n",
    "# Slice cut through the mesh along a great circle. We specify the endpoints of\n",
    "# the great circle even though here they are not actually associated with a\n",
    "# source or a receiver\n",
    "mesh_model.plot_slice(source_lat=0, source_lon=0, receiver_lat=45, receiver_lon=90).show()"
   ]
  },
  {
   "cell_type": "markdown",
   "id": "e1f58165",
   "metadata": {},
   "source": [
    "## 3) Map 1D Earth model properties onto mesh cells\n",
    "We'll add S-wave and P-wave velocities (`vs`, `vp`) from the selected 1D model."
   ]
  },
  {
   "cell_type": "code",
   "execution_count": 4,
   "id": "335502de",
   "metadata": {},
   "outputs": [],
   "source": [
    "model_name = 'prem'  # TauP 1D model name\n",
    "mesh_model.add_scalars_from_1d_model(model_name, properties=('vs','vp'), where='cell')\n",
    "# Quick sanity check: show available cell_data keys\n",
    "list(mesh_model.mesh.cell_data.keys())\n",
    "\n",
    "# Sphere cut through the mesh at radius 5000 km, now colored by vs\n",
    "mesh_model.plot_sphere(radius_km=5000, scalar_name='vs', wireframe=True).show()"
   ]
  },
  {
   "cell_type": "markdown",
   "id": "817287f2",
   "metadata": {},
   "source": [
    "## 4) Great-circle slice with constant-per-cell coloring\n",
    "Polygons on the slice inherit their parent cell values for crisp, non-interpolated coloring."
   ]
  },
  {
   "cell_type": "code",
   "execution_count": 5,
   "id": "a58c2ca4",
   "metadata": {},
   "outputs": [],
   "source": [
    "source_lat, source_lon, source_depth = 0.0, 0.0, 10.0\n",
    "receiver_lat, receiver_lon = 0.0, 80.0\n",
    "p = mesh_model.plot_slice(\n",
    "    source_lat=source_lat,\n",
    "    source_lon=source_lon,\n",
    "    receiver_lat=receiver_lat,\n",
    "    receiver_lon=receiver_lon,\n",
    "    scalar_name='vs',\n",
    "    cmap='RdBu',\n",
    "    wireframe=False\n",
    ")\n",
    "p.show()"
   ]
  },
  {
   "cell_type": "markdown",
   "id": "b1f009ce",
   "metadata": {},
   "source": [
    "## 5) Compute a synthetic ray, path lengths, and sensitivity kernel\n",
    "We'll create a straight chord ray between two near-surface points and compute per-cell path lengths and a `K_vs` kernel.\n",
    "Note: This is a synthetic example; real rays would typically be curved."
   ]
  },
  {
   "cell_type": "code",
   "execution_count": 6,
   "id": "8ccae328",
   "metadata": {},
   "outputs": [
    {
     "data": {
      "text/plain": [
       "(8412.542535123857, 49, 15.585394721785196)"
      ]
     },
     "execution_count": 6,
     "metadata": {},
     "output_type": "execute_result"
    }
   ],
   "source": [
    "# Build a ray path between the source and receiver for a certain 1d model\n",
    "tracer = RayPathTracer(model_name=model_name)\n",
    "rays, info = tracer.get_ray_paths(source_lat=source_lat, source_lon=source_lon, source_depth=source_depth,\n",
    "                            receiver_lat=receiver_lat, receiver_lon=receiver_lon, phases=['P'])\n",
    "rays_coords = tracer.extract_ray_coordinates(rays)\n",
    "\n",
    "# Select a single arrival (e.g., 'P'). Now you can pass the dict directly\n",
    "ray_dict = rays_coords['P']\n",
    "\n",
    "# Compute per-cell path lengths\n",
    "L = mesh_model.compute_ray_cell_path_lengths(ray_dict, attach_name='ray_lengths', tol=1e-6)\n",
    "\n",
    "# Compute sensitivity kernel K_vs = -L / (vs^2 + epsilon)\n",
    "K_vs = mesh_model.compute_sensitivity_kernel(ray_dict, property_name='vs', attach_name='K_vs', epsilon=1e-6)\n",
    "\n",
    "# Quick summaries\n",
    "float(L.sum()), int(np.count_nonzero(L)), float(np.nanmax(np.abs(K_vs)))"
   ]
  },
  {
   "cell_type": "markdown",
   "id": "761c9055",
   "metadata": {},
   "source": [
    "## 6) Visualize the kernel on a slice and on a shell\n",
    "Because kernels are stored as cell scalars, the constant-per-cell rendering applies here too."
   ]
  },
  {
   "cell_type": "code",
   "execution_count": 9,
   "id": "1b659338",
   "metadata": {},
   "outputs": [],
   "source": [
    "p = mesh_model.plot_slice(\n",
    "    source_lat=source_lat,\n",
    "    source_lon=source_lon,\n",
    "    receiver_lat=receiver_lat,\n",
    "    receiver_lon=receiver_lon,\n",
    "    scalar_name='K_vs',\n",
    "    cmap='viridis',\n",
    "    wireframe=True,\n",
    ")\n",
    "# Overlay the ray path on top of the slice\n",
    "mesh_model.add_polyline(p, ray_dict, color='yellow', line_width=4.0)\n",
    "p.show()\n",
    "\n",
    "mesh_model.plot_sphere(radius_km=5000, scalar_name='K_vs', wireframe=True).show()"
   ]
  },
  {
   "cell_type": "markdown",
   "id": "ea5d4a6f",
   "metadata": {},
   "source": [
    "## 7) Overlay source and receiver points on a slice\n",
    "The `add_points` helper accepts dict inputs with geographic coordinates and depth."
   ]
  },
  {
   "cell_type": "code",
   "execution_count": 8,
   "id": "4df29a41",
   "metadata": {},
   "outputs": [],
   "source": [
    "source_depth_km = 30.0\n",
    "pl = mesh_model.plot_slice(\n",
    "    source_lat=source_lat,\n",
    "    source_lon=source_lon,\n",
    "    receiver_lat=receiver_lat,\n",
    "    receiver_lon=receiver_lon,\n",
    "    scalar_name='vs',\n",
    "    cmap='RdBu',\n",
    "    wireframe=True,\n",
    ")\n",
    "mesh_model.add_points(pl, {\n",
    "    'lat': [source_lat, receiver_lat],\n",
    "    'lon': [source_lon, receiver_lon],\n",
    "    'depth_km': [source_depth_km, source_depth_km],\n",
    "})\n",
    "pl.show()"
   ]
  }
 ],
 "metadata": {
  "kernelspec": {
   "display_name": "masters",
   "language": "python",
   "name": "python3"
  },
  "language_info": {
   "codemirror_mode": {
    "name": "ipython",
    "version": 3
   },
   "file_extension": ".py",
   "mimetype": "text/x-python",
   "name": "python",
   "nbconvert_exporter": "python",
   "pygments_lexer": "ipython3",
   "version": "3.11.13"
  }
 },
 "nbformat": 4,
 "nbformat_minor": 5
}
