{
 "cells": [
  {
   "cell_type": "markdown",
   "id": "fed531ee",
   "metadata": {},
   "source": [
    "# SensRay MeshEarthModel Demo\n",
    "\n",
    "This demo showcases the core features of `MeshEarthModel`:\n",
    "- Build a tetrahedral sphere mesh\n",
    "- Map properties from a 1D Earth model (e.g., PREM) onto mesh cells\n",
    "- Visualize constant-per-cell values on a spherical shell and on great-circle slices\n",
    "- Compute per-cell path lengths for a synthetic ray and derive sensitivity kernels\n",
    "- Overlay points (e.g., source and receiver) on plots"
   ]
  },
  {
   "cell_type": "code",
   "execution_count": 9,
   "id": "e5d06905",
   "metadata": {},
   "outputs": [],
   "source": [
    "import numpy as np\n",
    "from sensray.mesh.earth_model import MeshEarthModel\n",
    "from sensray.core.ray_paths import RayPathTracer"
   ]
  },
  {
   "cell_type": "markdown",
   "id": "889bdfd0",
   "metadata": {},
   "source": [
    "## 1) Create a tetrahedral sphere mesh\n",
    "We'll generate a reasonably coarse sphere to keep things fast in a notebook."
   ]
  },
  {
   "cell_type": "code",
   "execution_count": 10,
   "id": "567ba518",
   "metadata": {},
   "outputs": [
    {
     "data": {
      "text/plain": [
       "6371.0"
      ]
     },
     "execution_count": 10,
     "metadata": {},
     "output_type": "execute_result"
    }
   ],
   "source": [
    "# Adjust mesh_size_km to trade accuracy vs speed\n",
    "mesh_model = MeshEarthModel.from_pygmsh_sphere(mesh_size_km=500)\n",
    "mesh_model.radius_km"
   ]
  },
  {
   "cell_type": "markdown",
   "id": "e1f58165",
   "metadata": {},
   "source": [
    "## 2) Map 1D Earth model properties onto mesh cells\n",
    "We'll add S-wave and P-wave velocities (`vs`, `vp`) from the selected 1D model."
   ]
  },
  {
   "cell_type": "code",
   "execution_count": 11,
   "id": "335502de",
   "metadata": {},
   "outputs": [
    {
     "data": {
      "text/plain": [
       "['vs', 'vp']"
      ]
     },
     "execution_count": 11,
     "metadata": {},
     "output_type": "execute_result"
    }
   ],
   "source": [
    "model_name = 'prem'  # TauP 1D model name\n",
    "mesh_model.add_scalars_from_1d_model(model_name, properties=('vs','vp'), where='cell')\n",
    "# Quick sanity check: show available cell_data keys\n",
    "list(mesh_model.mesh.cell_data.keys())"
   ]
  },
  {
   "cell_type": "markdown",
   "id": "e292f332",
   "metadata": {},
   "source": [
    "## 3) Visualize a spherical shell with constant-per-cell coloring\n",
    "The shell geometry and wireframe reflect the underlying mesh, and coloring is constant per parent cell."
   ]
  },
  {
   "cell_type": "code",
   "execution_count": 12,
   "id": "a8f467fa",
   "metadata": {},
   "outputs": [],
   "source": [
    "mesh_model.plot_sphere(radius_km=5000, scalar_name='vs', wireframe=True).show()"
   ]
  },
  {
   "cell_type": "markdown",
   "id": "817287f2",
   "metadata": {},
   "source": [
    "## 4) Great-circle slice with constant-per-cell coloring\n",
    "Polygons on the slice inherit their parent cell values for crisp, non-interpolated coloring."
   ]
  },
  {
   "cell_type": "code",
   "execution_count": 13,
   "id": "a58c2ca4",
   "metadata": {},
   "outputs": [],
   "source": [
    "source_lat, source_lon, source_depth = 0.0, 0.0, 10.0\n",
    "receiver_lat, receiver_lon = 0.0, 80.0\n",
    "p = mesh_model.plot_slice(\n",
    "    source_lat=source_lat,\n",
    "    source_lon=source_lon,\n",
    "    receiver_lat=receiver_lat,\n",
    "    receiver_lon=receiver_lon,\n",
    "    scalar_name='vs',\n",
    "    cmap='RdBu',\n",
    "    wireframe=True,\n",
    ")\n",
    "p.show()"
   ]
  },
  {
   "cell_type": "markdown",
   "id": "b1f009ce",
   "metadata": {},
   "source": [
    "## 5) Compute a synthetic ray, path lengths, and sensitivity kernel\n",
    "We'll create a straight chord ray between two near-surface points and compute per-cell path lengths and a `K_vs` kernel.\n",
    "Note: This is a synthetic example; real rays would typically be curved."
   ]
  },
  {
   "cell_type": "code",
   "execution_count": 14,
   "id": "8ccae328",
   "metadata": {},
   "outputs": [
    {
     "name": "stdout",
     "output_type": "stream",
     "text": [
      "[[6.36100000e+03 6.35599983e+03 6.35486014e+03 ... 1.10652754e+03\n",
      "  1.10642004e+03 1.10631254e+03]\n",
      " [0.00000000e+00 1.46634938e+00 1.86472440e+00 ... 6.27226834e+03\n",
      "  6.27323927e+03 6.27421019e+03]\n",
      " [6.35100000e+03 6.34100000e+03 6.33872083e+03 ... 6.36725000e+03\n",
      "  6.36912500e+03 6.37100000e+03]]\n"
     ]
    },
    {
     "data": {
      "text/plain": [
       "(6952.154093344296, 45, 21.091778870383205)"
      ]
     },
     "execution_count": 14,
     "metadata": {},
     "output_type": "execute_result"
    }
   ],
   "source": [
    "# Build a straight chord between two points near the surface\n",
    "tracer = RayPathTracer(model_name=model_name)\n",
    "rays = tracer.get_ray_paths(source_lat=source_lat, source_lon=source_lon, source_depth=source_depth,\n",
    "                            receiver_lat=receiver_lat, receiver_lon=receiver_lon, phases=['P'])\n",
    "rays_coords = tracer.extract_ray_coordinates(rays[0])\n",
    "\n",
    "# Stack into a 3 x N ndarray (rows: x, y, z)\n",
    "ray_xyz = np.vstack((\n",
    "    rays_coords['P']['3d_x_cartesian'],\n",
    "    rays_coords['P']['3d_y_cartesian'],\n",
    "    rays_coords['P']['3d_z_cartesian'],\n",
    ")).astype(float)\n",
    "\n",
    "# quick check\n",
    "print(ray_xyz)\n",
    "# Compute per-cell path lengths\n",
    "L = mesh_model.compute_ray_cell_path_lengths(ray_xyz, attach_name='ray_lengths', tol=1e-6)\n",
    "\n",
    "# Compute sensitivity kernel K_vs = -L / (vs^2 + epsilon)\n",
    "K_vs = mesh_model.compute_sensitivity_kernel(ray_xyz, property_name='vs', attach_name='K_vs', epsilon=1e-6)\n",
    "\n",
    "# Quick summaries\n",
    "float(L.sum()), int(np.count_nonzero(L)), float(np.nanmax(np.abs(K_vs)))"
   ]
  },
  {
   "cell_type": "markdown",
   "id": "761c9055",
   "metadata": {},
   "source": [
    "## 6) Visualize the kernel on a slice and on a shell\n",
    "Because kernels are stored as cell scalars, the constant-per-cell rendering applies here too."
   ]
  },
  {
   "cell_type": "code",
   "execution_count": 15,
   "id": "1b659338",
   "metadata": {},
   "outputs": [],
   "source": [
    "p = mesh_model.plot_slice(\n",
    "    source_lat=source_lat,\n",
    "    source_lon=source_lon,\n",
    "    receiver_lat=receiver_lat,\n",
    "    receiver_lon=receiver_lon,\n",
    "    scalar_name='ray_lengths',\n",
    "    cmap='viridis',\n",
    "    wireframe=True,\n",
    ")\n",
    "p.show()\n",
    "\n",
    "mesh_model.plot_sphere(radius_km=5000, scalar_name='K_vs', wireframe=True).show()"
   ]
  },
  {
   "cell_type": "markdown",
   "id": "ea5d4a6f",
   "metadata": {},
   "source": [
    "## 7) Overlay source and receiver points on a slice\n",
    "The `add_points` helper accepts dict inputs with geographic coordinates and depth."
   ]
  },
  {
   "cell_type": "code",
   "execution_count": 16,
   "id": "4df29a41",
   "metadata": {},
   "outputs": [],
   "source": [
    "source_depth_km = 30.0\n",
    "pl = mesh_model.plot_slice(\n",
    "    source_lat=source_lat,\n",
    "    source_lon=source_lon,\n",
    "    receiver_lat=receiver_lat,\n",
    "    receiver_lon=receiver_lon,\n",
    "    scalar_name='vs',\n",
    "    cmap='RdBu',\n",
    "    wireframe=True,\n",
    ")\n",
    "mesh_model.add_points(pl, {\n",
    "    'lat': [source_lat, receiver_lat],\n",
    "    'lon': [source_lon, receiver_lon],\n",
    "    'depth_km': [source_depth_km, source_depth_km],\n",
    "})\n",
    "pl.show()"
   ]
  }
 ],
 "metadata": {
  "kernelspec": {
   "display_name": "masters",
   "language": "python",
   "name": "python3"
  },
  "language_info": {
   "codemirror_mode": {
    "name": "ipython",
    "version": 3
   },
   "file_extension": ".py",
   "mimetype": "text/x-python",
   "name": "python",
   "nbconvert_exporter": "python",
   "pygments_lexer": "ipython3",
   "version": "3.11.9"
  }
 },
 "nbformat": 4,
 "nbformat_minor": 5
}
