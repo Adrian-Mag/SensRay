{
 "cells": [
  {
   "cell_type": "markdown",
   "id": "eb5d7534",
   "metadata": {},
   "source": [
    "# SensRay Ray Tracing & Sensitivity Kernels Demo\n",
    "\n",
    "This notebook demonstrates:\n",
    "- Ray tracing with ObsPy/TauP integration\n",
    "- Computing per-cell ray path lengths\n",
    "- Calculating sensitivity kernels\n",
    "- Visualizing rays and kernels in cross-sections"
   ]
  },
  {
   "cell_type": "code",
   "execution_count": 1,
   "id": "41256a18",
   "metadata": {},
   "outputs": [],
   "source": [
    "import numpy as np\n",
    "from sensray import PlanetModel, CoordinateConverter"
   ]
  },
  {
   "cell_type": "markdown",
   "id": "97df225c",
   "metadata": {},
   "source": [
    "## 1. Setup Model and Mesh\n",
    "\n",
    "Create a model and mesh for ray tracing experiments."
   ]
  },
  {
   "cell_type": "code",
   "execution_count": 2,
   "id": "4967df2d",
   "metadata": {},
   "outputs": [
    {
     "name": "stdout",
     "output_type": "stream",
     "text": [
      "Generated tetrahedral mesh: 197612 cells, 32849 points\n",
      "Populated properties: ['vp', 'vs', 'rho']\n",
      "Created mesh: 197612 cells\n",
      "Populated properties: ['vp', 'vs', 'rho']\n",
      "Created mesh: 197612 cells\n"
     ]
    }
   ],
   "source": [
    "# Load model and create mesh\n",
    "model = PlanetModel.from_standard_model('prem')\n",
    "mesh = model.create_mesh(\n",
    "    mesh_type='tetrahedral',\n",
    "    mesh_size_km=300.0,\n",
    "    populate_properties=['vp', 'vs', 'rho']\n",
    ")\n",
    "print(f\"Created mesh: {mesh.mesh.n_cells} cells\")"
   ]
  },
  {
   "cell_type": "markdown",
   "id": "9b4089b9",
   "metadata": {},
   "source": [
    "## 2. Define Source-Receiver Geometry\n",
    "\n",
    "Set up a realistic earthquake-station pair."
   ]
  },
  {
   "cell_type": "code",
   "execution_count": 3,
   "id": "83744590",
   "metadata": {},
   "outputs": [
    {
     "name": "stdout",
     "output_type": "stream",
     "text": [
      "Source: (0.0°, 0.0°, 150.0 km)\n",
      "Receiver: (30.0°, 45.0°, 0 km)\n",
      "Great-circle plane normal: (0.0, -0.6324555320336758, 0.7745966692414834)\n"
     ]
    }
   ],
   "source": [
    "# Define source (earthquake) and receiver (seismic station) locations\n",
    "source_lat, source_lon, source_depth = 0.0, 0.0, 150.0  # Equator, 150 km depth\n",
    "receiver_lat, receiver_lon = 30.0, 45.0  # Surface station\n",
    "\n",
    "# Compute great-circle plane normal for cross-sections\n",
    "plane_normal = CoordinateConverter.compute_gc_plane_normal(\n",
    "    source_lat, source_lon, receiver_lat, receiver_lon\n",
    ")\n",
    "print(f\"Source: ({source_lat}°, {source_lon}°, {source_depth} km)\")\n",
    "print(f\"Receiver: ({receiver_lat}°, {receiver_lon}°, 0 km)\")\n",
    "print(f\"Great-circle plane normal: {plane_normal}\")"
   ]
  },
  {
   "cell_type": "markdown",
   "id": "ba61d8be",
   "metadata": {},
   "source": [
    "## 3. Ray Tracing with TauP\n",
    "\n",
    "Compute ray paths for different seismic phases."
   ]
  },
  {
   "cell_type": "code",
   "execution_count": 4,
   "id": "bf335dec",
   "metadata": {},
   "outputs": [
    {
     "name": "stdout",
     "output_type": "stream",
     "text": [
      "Building obspy.taup model for '/disks/data/PhD/masters/SensRay/sensray/models/prem.nd' ...\n",
      "filename = /disks/data/PhD/masters/SensRay/sensray/models/prem.nd\n",
      "Done reading velocity model.\n",
      "Radius of model . is 6371.0\n",
      "Using parameters provided in TauP_config.ini (or defaults if not) to call SlownessModel...\n",
      "Parameters are:\n",
      "taup.create.min_delta_p = 0.1 sec / radian\n",
      "taup.create.max_delta_p = 11.0 sec / radian\n",
      "taup.create.max_depth_interval = 115.0 kilometers\n",
      "taup.create.max_range_interval = 0.04363323129985824 degrees\n",
      "taup.create.max_interp_error = 0.05 seconds\n",
      "taup.create.allow_inner_core_s = True\n",
      "Slow model  553 P layers,646 S layers\n",
      "Done calculating Tau branches.\n",
      "Done Saving /tmp/prem.npz\n",
      "Method run is done, but not necessarily successful.\n",
      "Found 3 ray paths:\n",
      "  1. P: 535.08 s, 227 points\n",
      "  2. S: 969.32 s, 276 points\n",
      "  3. ScS: 1110.00 s, 512 points\n",
      "Parameters are:\n",
      "taup.create.min_delta_p = 0.1 sec / radian\n",
      "taup.create.max_delta_p = 11.0 sec / radian\n",
      "taup.create.max_depth_interval = 115.0 kilometers\n",
      "taup.create.max_range_interval = 0.04363323129985824 degrees\n",
      "taup.create.max_interp_error = 0.05 seconds\n",
      "taup.create.allow_inner_core_s = True\n",
      "Slow model  553 P layers,646 S layers\n",
      "Done calculating Tau branches.\n",
      "Done Saving /tmp/prem.npz\n",
      "Method run is done, but not necessarily successful.\n",
      "Found 3 ray paths:\n",
      "  1. P: 535.08 s, 227 points\n",
      "  2. S: 969.32 s, 276 points\n",
      "  3. ScS: 1110.00 s, 512 points\n"
     ]
    }
   ],
   "source": [
    "# Get ray paths for P and S waves\n",
    "rays = model.taupy_model.get_ray_paths_geo(\n",
    "    source_depth_in_km=source_depth,\n",
    "    source_latitude_in_deg=source_lat,\n",
    "    source_longitude_in_deg=source_lon,\n",
    "    receiver_latitude_in_deg=receiver_lat,\n",
    "    receiver_longitude_in_deg=receiver_lon,\n",
    "    phase_list=[\"P\", \"S\", \"ScS\"]\n",
    ")\n",
    "\n",
    "print(f\"Found {len(rays)} ray paths:\")\n",
    "for i, ray in enumerate(rays):\n",
    "    print(f\"  {i+1}. {ray.phase.name}: {ray.time:.2f} s, {len(ray.path)} points\")"
   ]
  },
  {
   "cell_type": "markdown",
   "id": "d0308f76",
   "metadata": {},
   "source": [
    "## 4. Compute Ray Path Lengths\n",
    "\n",
    "Calculate how much each ray travels through each mesh cell."
   ]
  },
  {
   "cell_type": "code",
   "execution_count": 5,
   "id": "b7c97500",
   "metadata": {},
   "outputs": [
    {
     "name": "stdout",
     "output_type": "stream",
     "text": [
      "Stored ray path lengths as cell data: 'ray_P_wave_P_lengths'\n",
      "Stored ray path lengths as cell data: 'ray_S_wave_S_lengths'\n",
      "P wave: 5750.4 km total, 61 cells\n",
      "S wave: 5728.9 km total, 59 cells\n",
      "Stored ray properties: ['ray_P_wave_P_lengths', 'ray_S_wave_S_lengths']\n",
      "Stored ray path lengths as cell data: 'ray_S_wave_S_lengths'\n",
      "P wave: 5750.4 km total, 61 cells\n",
      "S wave: 5728.9 km total, 59 cells\n",
      "Stored ray properties: ['ray_P_wave_P_lengths', 'ray_S_wave_S_lengths']\n"
     ]
    }
   ],
   "source": [
    "# Compute and store path lengths for each ray\n",
    "P_ray = rays[0]  # First ray (P wave)\n",
    "S_ray = rays[1] if len(rays) > 1 else rays[0]  # Second ray (S wave)\n",
    "\n",
    "# Method 1: Simple computation and storage\n",
    "P_lengths = mesh.add_ray_to_mesh(P_ray, \"P_wave\")\n",
    "S_lengths = mesh.add_ray_to_mesh(S_ray, \"S_wave\")\n",
    "\n",
    "print(f\"P wave: {P_lengths.sum():.1f} km total, {np.count_nonzero(P_lengths)} cells\")\n",
    "print(f\"S wave: {S_lengths.sum():.1f} km total, {np.count_nonzero(S_lengths)} cells\")\n",
    "\n",
    "# Show stored properties\n",
    "ray_keys = [k for k in mesh.mesh.cell_data.keys() if 'ray_' in k]\n",
    "print(f\"Stored ray properties: {ray_keys}\")"
   ]
  },
  {
   "cell_type": "markdown",
   "id": "fbf5b556",
   "metadata": {},
   "source": [
    "## 5. Sensitivity Kernels\n",
    "\n",
    "Compute travel-time sensitivity kernels: K = -L / v² for each cell."
   ]
  },
  {
   "cell_type": "code",
   "execution_count": 6,
   "id": "0f1e9231",
   "metadata": {},
   "outputs": [
    {
     "name": "stdout",
     "output_type": "stream",
     "text": [
      "Stored sensitivity kernel as cell data: 'K_P_vp'\n",
      "Stored sensitivity kernel as cell data: 'K_S_vs'\n",
      "P kernel range: -3.217215 to -0.000000 s²/km³\n",
      "S kernel range: -10.535492 to -0.000000 s²/km³\n",
      "Non-zero P kernel cells: 61\n",
      "Non-zero S kernel cells: 59\n",
      "Stored sensitivity kernel as cell data: 'K_S_vs'\n",
      "P kernel range: -3.217215 to -0.000000 s²/km³\n",
      "S kernel range: -10.535492 to -0.000000 s²/km³\n",
      "Non-zero P kernel cells: 61\n",
      "Non-zero S kernel cells: 59\n"
     ]
    }
   ],
   "source": [
    "# Compute sensitivity kernels for P and S waves\n",
    "P_kernel = mesh.compute_sensitivity_kernel(\n",
    "    P_ray, property_name='vp', attach_name='K_P_vp', epsilon=1e-6\n",
    ")\n",
    "S_kernel = mesh.compute_sensitivity_kernel(\n",
    "    S_ray, property_name='vs', attach_name='K_S_vs', epsilon=1e-6\n",
    ")\n",
    "\n",
    "print(f\"P kernel range: {P_kernel.min():.6f} to {P_kernel.max():.6f} s²/km³\")\n",
    "print(f\"S kernel range: {S_kernel.min():.6f} to {S_kernel.max():.6f} s²/km³\")\n",
    "print(f\"Non-zero P kernel cells: {np.count_nonzero(P_kernel)}\")\n",
    "print(f\"Non-zero S kernel cells: {np.count_nonzero(S_kernel)}\")"
   ]
  },
  {
   "cell_type": "markdown",
   "id": "94f07480",
   "metadata": {},
   "source": [
    "## 6. Multiple Ray Kernels\n",
    "\n",
    "Combine kernels from multiple rays for enhanced sensitivity."
   ]
  },
  {
   "cell_type": "code",
   "execution_count": 7,
   "id": "0fad5637",
   "metadata": {},
   "outputs": [
    {
     "name": "stdout",
     "output_type": "stream",
     "text": [
      "Stored summed sensitivity kernel as cell data: 'K_combined_vp'\n",
      "Combined kernel range: -6.304745 to 0.000000\n",
      "Combined kernel non-zero cells: 74\n"
     ]
    }
   ],
   "source": [
    "# Sum kernels from multiple rays\n",
    "if len(rays) >= 2:\n",
    "    combined_kernel = mesh.compute_sensitivity_kernels_for_rays(\n",
    "        rays[:2],  # Use first two rays\n",
    "        property_name='vp',\n",
    "        attach_name='K_combined_vp',\n",
    "        accumulate='sum'\n",
    "    )\n",
    "    print(f\"Combined kernel range: {combined_kernel.min():.6f} to {combined_kernel.max():.6f}\")\n",
    "    print(f\"Combined kernel non-zero cells: {np.count_nonzero(combined_kernel)}\")"
   ]
  },
  {
   "cell_type": "markdown",
   "id": "868cec0c",
   "metadata": {},
   "source": [
    "## 7. Visualization\n",
    "\n",
    "Create cross-sections showing background velocity, ray paths, and sensitivity kernels."
   ]
  },
  {
   "cell_type": "code",
   "execution_count": 8,
   "id": "b9c2a785",
   "metadata": {},
   "outputs": [
    {
     "name": "stdout",
     "output_type": "stream",
     "text": [
      "Background P-wave velocity:\n"
     ]
    },
    {
     "data": {
      "application/vnd.jupyter.widget-view+json": {
       "model_id": "156d7549781440c5b1c9f82767d7c0e9",
       "version_major": 2,
       "version_minor": 0
      },
      "text/plain": [
       "Widget(value='<iframe src=\"http://localhost:35859/index.html?ui=P_0x7f1aff081c10_0&reconnect=auto\" class=\"pyvi…"
      ]
     },
     "metadata": {},
     "output_type": "display_data"
    }
   ],
   "source": [
    "# Cross-section showing background Vp\n",
    "print(\"Background P-wave velocity:\")\n",
    "plotter1 = mesh.plot_cross_section(\n",
    "    plane_normal=plane_normal,\n",
    "    property_name='vp',\n",
    "    show_rays=[P_ray]  # Overlay ray path\n",
    ")\n",
    "plotter1.camera.position = (8000, 6000, 10000)\n",
    "plotter1.show()"
   ]
  },
  {
   "cell_type": "code",
   "execution_count": 9,
   "id": "a61d1688",
   "metadata": {},
   "outputs": [
    {
     "name": "stdout",
     "output_type": "stream",
     "text": [
      "P-wave path lengths through cells:\n"
     ]
    },
    {
     "data": {
      "application/vnd.jupyter.widget-view+json": {
       "model_id": "df5a4ac4383348238d9d53078a76df5a",
       "version_major": 2,
       "version_minor": 0
      },
      "text/plain": [
       "Widget(value='<iframe src=\"http://localhost:35859/index.html?ui=P_0x7f1aff081890_1&reconnect=auto\" class=\"pyvi…"
      ]
     },
     "metadata": {},
     "output_type": "display_data"
    }
   ],
   "source": [
    "# Cross-section showing P-wave ray path lengths\n",
    "print(\"P-wave path lengths through cells:\")\n",
    "plotter2 = mesh.plot_cross_section(plane_normal=plane_normal,\n",
    "                                   property_name='K_P_vp',\n",
    "                                   show_rays=[P_ray])\n",
    "plotter2.camera.position = (8000, 6000, 10000)\n",
    "plotter2.show()"
   ]
  },
  {
   "cell_type": "markdown",
   "id": "6f3119a6",
   "metadata": {},
   "source": [
    "## 8. Export Results\n",
    "\n",
    "Save mesh with all computed properties for further analysis."
   ]
  },
  {
   "cell_type": "code",
   "execution_count": 11,
   "id": "50fb29a1",
   "metadata": {},
   "outputs": [
    {
     "name": "stdout",
     "output_type": "stream",
     "text": [
      "Saved mesh to prem_tet_rays_kernels_demo.vtu\n",
      "Saved metadata to prem_tet_rays_kernels_demo_metadata.json\n",
      "Mesh properties summary:\n",
      "  cell_data keys: ['vp', 'vs', 'rho', 'vtkOriginalCellIds', 'ray_P_wave_P_lengths', 'ray_S_wave_S_lengths', 'K_P_vp', 'K_S_vs', 'K_combined_vp']\n",
      "Saved 9 properties to VTU file:\n",
      "  - vp\n",
      "  - vs\n",
      "  - rho\n",
      "  - vtkOriginalCellIds\n",
      "  - ray_P_wave_P_lengths\n",
      "  - ray_S_wave_S_lengths\n",
      "  - K_P_vp\n",
      "  - K_S_vs\n",
      "  - K_combined_vp\n",
      "\n",
      "Files created:\n",
      "  - prem_tet_rays_kernels_demo.vtu (mesh + all data)\n",
      "  - prem_tet_rays_kernels_demo_metadata.json (property list)\n"
     ]
    }
   ],
   "source": [
    "# Save mesh with rays and kernels\n",
    "mesh.save('prem_tet_rays_kernels_demo')\n",
    "\n",
    "# Show what was saved\n",
    "info = mesh.list_properties(show_stats=False)\n",
    "print(f\"Saved {len(info['cell_data'])} properties to VTU file:\")\n",
    "for prop in info['cell_data'].keys():\n",
    "    print(f\"  - {prop}\")\n",
    "\n",
    "print(\"\\nFiles created:\")\n",
    "print(\"  - prem_tet_rays_kernels_demo.vtu (mesh + all data)\")\n",
    "print(\"  - prem_tet_rays_kernels_demo_metadata.json (property list)\")"
   ]
  },
  {
   "cell_type": "markdown",
   "id": "0441eaec",
   "metadata": {},
   "source": [
    "## Summary\n",
    "\n",
    "This demo showed:\n",
    "- Ray tracing with TauP for P, S, and ScS phases\n",
    "- Computing per-cell ray path lengths\n",
    "- Calculating sensitivity kernels K = -L/v²\n",
    "- Combining multiple ray kernels\n",
    "- Visualizing rays, path lengths, and kernels in cross-sections\n",
    "- Exporting results to VTU format\n",
    "\n",
    "**Key Methods:**\n",
    "- `mesh.add_ray_to_mesh(ray, name)` - compute and store ray lengths\n",
    "- `mesh.compute_sensitivity_kernel(ray, property, name)` - compute kernels\n",
    "- `mesh.plot_cross_section_with_rays()` - visualize ray properties\n",
    "- `mesh.save(path)` - export all data\n",
    "\n",
    "Next: See `03_advanced_workflows.ipynb` for batch processing and analysis."
   ]
  }
 ],
 "metadata": {
  "kernelspec": {
   "display_name": "masters",
   "language": "python",
   "name": "python3"
  },
  "language_info": {
   "codemirror_mode": {
    "name": "ipython",
    "version": 3
   },
   "file_extension": ".py",
   "mimetype": "text/x-python",
   "name": "python",
   "nbconvert_exporter": "python",
   "pygments_lexer": "ipython3",
   "version": "3.11.13"
  }
 },
 "nbformat": 4,
 "nbformat_minor": 5
}
