{
 "cells": [
  {
   "cell_type": "markdown",
   "id": "eb5d7534",
   "metadata": {},
   "source": [
    "# SensRay Ray Tracing & Sensitivity Kernels Demo\n",
    "\n",
    "This notebook demonstrates:\n",
    "- Ray tracing with ObsPy/TauP integration\n",
    "- Computing per-cell ray path lengths\n",
    "- Calculating sensitivity kernels\n",
    "- Visualizing rays and kernels in cross-sections"
   ]
  },
  {
   "cell_type": "code",
   "execution_count": 1,
   "id": "41256a18",
   "metadata": {},
   "outputs": [
    {
     "name": "stdout",
     "output_type": "stream",
     "text": [
      "Warning: Could not set interactive PyVista backend: Invalid Jupyter notebook plotting backend \"panel\".\n",
      "Use one of the following:\n",
      "\"static\", \"client\", \"server\", \"trame\", \"html\", \"none\"\n"
     ]
    }
   ],
   "source": [
    "import os\n",
    "# Top-level INTERACTIVE switch: set to True for interactive Jupyter widgets,\n",
    "# or False to force static/off-screen rendering and enable screenshot-based outputs.\n",
    "INTERACTIVE = True\n",
    "\n",
    "# If not interactive, set PyVista to off-screen mode. If interactive, prefer ipyvtklink/panel.\n",
    "if not INTERACTIVE:\n",
    "    os.environ['PYVISTA_OFF_SCREEN'] = 'true'\n",
    "    os.environ['PYVISTA_USE_IPYVTK'] = 'false'\n",
    "else:\n",
    "    os.environ.pop('PYVISTA_OFF_SCREEN', None)\n",
    "    # Prefer ipyvtklink for Jupyter interactive 3D plots (requires ipyvtklink installed)\n",
    "    os.environ['PYVISTA_USE_IPYVTK'] = 'true'\n",
    "\n",
    "import numpy as np\n",
    "from sensray import PlanetModel, CoordinateConverter\n",
    "\n",
    "# Configure PyVista backend according to INTERACTIVE flag\n",
    "try:\n",
    "    import pyvista as pv\n",
    "    if INTERACTIVE:\n",
    "        try:\n",
    "            pv.set_jupyter_backend('ipyvtklink')\n",
    "            print(\"Configured PyVista for interactive plotting using ipyvtklink\")\n",
    "        except Exception:\n",
    "            try:\n",
    "                pv.set_jupyter_backend('panel')\n",
    "                print(\"Configured PyVista for interactive plotting using panel\")\n",
    "            except Exception as e:\n",
    "                print(f\"Warning: Could not set interactive PyVista backend: {e}\")\n",
    "    else:\n",
    "        pv.set_jupyter_backend('static')\n",
    "        print(\"Configured PyVista for static/off-screen plotting\")\n",
    "except Exception as e:\n",
    "    print(f\"Warning: Could not import/configure pyvista: {e}\")"
   ]
  },
  {
   "cell_type": "markdown",
   "id": "97df225c",
   "metadata": {},
   "source": [
    "## 1. Setup Model and Mesh\n",
    "\n",
    "Create a model and mesh for ray tracing experiments."
   ]
  },
  {
   "cell_type": "markdown",
   "id": "ecfb0bec",
   "metadata": {},
   "source": [
    "### Creating a layered tetrahedral mesh (discontinuities)\n",
    "\n",
    "This demo uses a layered, concentric-sphere tetrahedral mesh so you can control resolution across major internal interfaces (discontinuities). The mesher accepts these main controls:\n",
    "\n",
    "- `radii` (list of floats, ascending): interface radii in km (last entry must be the outer radius).\n",
    "- `H_layers` (list of floats): target element size per layer (km). If `None`, `mesh_size_km` is used for all layers.\n",
    "- `W_trans` (list of floats): half-widths for smooth size transitions at interfaces (km). If omitted, a default ~0.2*layer_thickness is used.\n",
    "\n",
    "Notes:\n",
    "- Units are kilometres throughout the API.\n",
    "- For a uniform sphere just omit `radii` and set `mesh_size_km`.\n",
    "\n",
    "Example (run this when creating a new mesh):\n",
    "```python\n",
    "radii = [1221.5, 3480.0, 6371.0]\n",
    "H_layers = [500.0, 500.0, 300.0]\n",
    "W_trans = [50.0, 100.0]  # optional\n",
    "# Create mesh (use do_optimize=False for faster development)\n",
    "model.create_mesh(mesh_size_km=1000.0, radii=radii, H_layers=H_layers, W_trans=W_trans, do_optimize=False)\n",
    "model.mesh.populate_properties(['vp', 'vs', 'rho'])\n",
    "model.mesh.save('prem_mesh.vtu')  # file extension recommended\n",
    "```"
   ]
  },
  {
   "cell_type": "code",
   "execution_count": 2,
   "id": "4967df2d",
   "metadata": {},
   "outputs": [
    {
     "name": "stdout",
     "output_type": "stream",
     "text": [
      "Loaded mesh from prem_mesh.vtu\n",
      "Loaded metadata: 18221 cells, 3973 points\n",
      "Loaded existing mesh from prem_mesh\n",
      "Created mesh: 18221 cells\n"
     ]
    }
   ],
   "source": [
    "# Load model and create mesh\n",
    "model = PlanetModel.from_standard_model('prem')\n",
    "# Create mesh and save if not exist, otherwise load existing\n",
    "mesh_path = \"prem_mesh\"\n",
    "try:\n",
    "    model.create_mesh(from_file=mesh_path)\n",
    "    print(f\"Loaded existing mesh from {mesh_path}\")\n",
    "except FileNotFoundError:\n",
    "    print(\"Creating new mesh...\")\n",
    "    radii = [1221.5, 3480.0, 6371]\n",
    "    H_layers = [1000, 1000, 600]\n",
    "    model.create_mesh(mesh_size_km=1000, radii=radii, H_layers=H_layers)\n",
    "    model.mesh.populate_properties(['vp', 'vs', 'rho'])\n",
    "    model.mesh.save(\"prem_mesh\")  # Save mesh to VT\n",
    "print(f\"Created mesh: {model.mesh.mesh.n_cells} cells\")"
   ]
  },
  {
   "cell_type": "markdown",
   "id": "9b4089b9",
   "metadata": {},
   "source": [
    "## 2. Define Source-Receiver Geometry\n",
    "\n",
    "Set up a realistic earthquake-station pair."
   ]
  },
  {
   "cell_type": "code",
   "execution_count": 3,
   "id": "83744590",
   "metadata": {},
   "outputs": [
    {
     "name": "stdout",
     "output_type": "stream",
     "text": [
      "Source: (0.0°, 0.0°, 150.0 km)\n",
      "Receiver: (30.0°, 45.0°, 0 km)\n",
      "Great-circle plane normal: (0.0, -0.6324555320336758, 0.7745966692414834)\n"
     ]
    }
   ],
   "source": [
    "# Define source (earthquake) and receiver (seismic station) locations\n",
    "source_lat, source_lon, source_depth = 0.0, 0.0, 150.0  # Equator, 150 km depth\n",
    "receiver_lat, receiver_lon = 30.0, 45.0  # Surface station\n",
    "\n",
    "# Compute great-circle plane normal for cross-sections\n",
    "plane_normal = CoordinateConverter.compute_gc_plane_normal(\n",
    "    source_lat, source_lon, receiver_lat, receiver_lon\n",
    ")\n",
    "print(f\"Source: ({source_lat}°, {source_lon}°, {source_depth} km)\")\n",
    "print(f\"Receiver: ({receiver_lat}°, {receiver_lon}°, 0 km)\")\n",
    "print(f\"Great-circle plane normal: {plane_normal}\")"
   ]
  },
  {
   "cell_type": "markdown",
   "id": "ba61d8be",
   "metadata": {},
   "source": [
    "## 3. Ray Tracing with TauP\n",
    "\n",
    "Compute ray paths for different seismic phases."
   ]
  },
  {
   "cell_type": "code",
   "execution_count": 4,
   "id": "bf335dec",
   "metadata": {},
   "outputs": [
    {
     "name": "stdout",
     "output_type": "stream",
     "text": [
      "Building obspy.taup model for '/home/adrian/PhD/masters/SensRay/sensray/models/prem.nd' ...\n",
      "filename = /home/adrian/PhD/masters/SensRay/sensray/models/prem.nd\n",
      "Done reading velocity model.\n",
      "Radius of model . is 6371.0\n",
      "Using parameters provided in TauP_config.ini (or defaults if not) to call SlownessModel...\n",
      "Parameters are:\n",
      "taup.create.min_delta_p = 0.1 sec / radian\n",
      "taup.create.max_delta_p = 11.0 sec / radian\n",
      "taup.create.max_depth_interval = 115.0 kilometers\n",
      "taup.create.max_range_interval = 0.04363323129985824 degrees\n",
      "taup.create.max_interp_error = 0.05 seconds\n",
      "taup.create.allow_inner_core_s = True\n",
      "Slow model  553 P layers,646 S layers\n",
      "Parameters are:\n",
      "taup.create.min_delta_p = 0.1 sec / radian\n",
      "taup.create.max_delta_p = 11.0 sec / radian\n",
      "taup.create.max_depth_interval = 115.0 kilometers\n",
      "taup.create.max_range_interval = 0.04363323129985824 degrees\n",
      "taup.create.max_interp_error = 0.05 seconds\n",
      "taup.create.allow_inner_core_s = True\n",
      "Slow model  553 P layers,646 S layers\n",
      "Done calculating Tau branches.\n",
      "Done Saving /tmp/prem.npz\n",
      "Method run is done, but not necessarily successful.\n",
      "Done calculating Tau branches.\n",
      "Done Saving /tmp/prem.npz\n",
      "Method run is done, but not necessarily successful.\n"
     ]
    },
    {
     "name": "stderr",
     "output_type": "stream",
     "text": [
      "/tmp/ipykernel_10905/3674336434.py:11: ObsPyDeprecationWarning: The plot() function is deprecated. Please use arrivals.plot_rays()\n",
      "  rays.plot()\n"
     ]
    },
    {
     "data": {
      "image/png": "[encoded data removed]",
      "text/plain": [
       "<Figure size 640x480 with 1 Axes>"
      ]
     },
     "metadata": {},
     "output_type": "display_data"
    },
    {
     "name": "stdout",
     "output_type": "stream",
     "text": [
      "Found 3 ray paths:\n",
      "  1. P: 535.08 s, 227 points\n",
      "  2. S: 969.32 s, 276 points\n",
      "  3. ScS: 1110.00 s, 512 points\n"
     ]
    }
   ],
   "source": [
    "# Get ray paths for P and S waves\n",
    "rays = model.taupy_model.get_ray_paths_geo(\n",
    "    source_depth_in_km=source_depth,\n",
    "    source_latitude_in_deg=source_lat,\n",
    "    source_longitude_in_deg=source_lon,\n",
    "    receiver_latitude_in_deg=receiver_lat,\n",
    "    receiver_longitude_in_deg=receiver_lon,\n",
    "    phase_list=[\"P\", \"S\", \"ScS\"]\n",
    ")\n",
    "\n",
    "rays.plot()\n",
    "\n",
    "print(f\"Found {len(rays)} ray paths:\")\n",
    "for i, ray in enumerate(rays):\n",
    "    print(f\"  {i+1}. {ray.phase.name}: {ray.time:.2f} s, {len(ray.path)} points\")"
   ]
  },
  {
   "cell_type": "markdown",
   "id": "d0308f76",
   "metadata": {},
   "source": [
    "## 4. Compute Ray Path Lengths\n",
    "\n",
    "Calculate how much each ray travels through each mesh cell."
   ]
  },
  {
   "cell_type": "code",
   "execution_count": 5,
   "id": "b7c97500",
   "metadata": {},
   "outputs": [
    {
     "name": "stdout",
     "output_type": "stream",
     "text": [
      "Stored ray path lengths as cell data: 'ray_P_wave_P_lengths'\n",
      "Stored ray path lengths as cell data: 'ray_S_wave_S_lengths'\n",
      "Stored ray path lengths as cell data: 'ray_ScS_wave_ScS_lengths'\n",
      "P wave: 5744.2 km total, 24 cells\n",
      "S wave: 5722.8 km total, 24 cells\n",
      "ScS wave: 7054.3 km total, 30 cells\n",
      "Stored ray properties: ['ray_P_wave_P_lengths', 'ray_S_wave_S_lengths', 'ray_ScS_wave_ScS_lengths']\n"
     ]
    }
   ],
   "source": [
    "# Compute and store path lengths for each ray\n",
    "P_ray = rays[0]  # First ray (P wave)\n",
    "S_ray = rays[1] if len(rays) > 1 else rays[0]  # Second ray (S wave)\n",
    "ScS_ray = rays[2]\n",
    "\n",
    "# Method 1: Simple computation and storage\n",
    "P_lengths = model.mesh.add_ray_to_mesh(P_ray, \"P_wave\")\n",
    "S_lengths = model.mesh.add_ray_to_mesh(S_ray, \"S_wave\")\n",
    "ScS_lengths = model.mesh.add_ray_to_mesh(ScS_ray, \"ScS_wave\")\n",
    "\n",
    "print(f\"P wave: {P_lengths.sum():.1f} km total, {np.count_nonzero(P_lengths)} cells\")\n",
    "print(f\"S wave: {S_lengths.sum():.1f} km total, {np.count_nonzero(S_lengths)} cells\")\n",
    "print(f\"ScS wave: {ScS_lengths.sum():.1f} km total, {np.count_nonzero(ScS_lengths)} cells\")\n",
    "\n",
    "# Show stored properties\n",
    "ray_keys = [k for k in model.mesh.mesh.cell_data.keys() if 'ray_' in k]\n",
    "print(f\"Stored ray properties: {ray_keys}\")"
   ]
  },
  {
   "cell_type": "markdown",
   "id": "3874737f",
   "metadata": {},
   "source": [
    "### And visualization"
   ]
  },
  {
   "cell_type": "code",
   "execution_count": 6,
   "id": "72cc42c7",
   "metadata": {},
   "outputs": [
    {
     "name": "stdout",
     "output_type": "stream",
     "text": [
      "Background P-wave velocity:\n"
     ]
    },
    {
     "data": {
      "application/vnd.jupyter.widget-view+json": {
       "model_id": "acf74e02b97e4e07ae7f1f8c108d4a38",
       "version_major": 2,
       "version_minor": 0
      },
      "text/plain": [
       "Widget(value='<iframe src=\"http://localhost:44739/index.html?ui=P_0x7fa83a24e790_0&reconnect=auto\" class=\"pyvi…"
      ]
     },
     "metadata": {},
     "output_type": "display_data"
    }
   ],
   "source": [
    "# Cross-section showing background Vp\n",
    "print(\"Background P-wave velocity:\")\n",
    "plotter1 = model.mesh.plot_cross_section(\n",
    "    plane_normal=plane_normal,\n",
    "    property_name='vp',\n",
    "    show_rays=rays,  # Overlay ray path\n",
    ")\n",
    "plotter1.camera.position = (8000, 6000, 10000)\n",
    "# Use INTERACTIVE switch to control whether show() presents an interactive widget or a static render.\n",
    "# If INTERACTIVE is False and you want an image, call plotter1.screenshot('vp_background.png')\n",
    "plotter1.show(interactive=INTERACTIVE)\n"
   ]
  },
  {
   "cell_type": "code",
   "execution_count": 7,
   "id": "d06066ba",
   "metadata": {},
   "outputs": [
    {
     "name": "stdout",
     "output_type": "stream",
     "text": [
      "P-wave path lengths through cells:\n"
     ]
    },
    {
     "data": {
      "application/vnd.jupyter.widget-view+json": {
       "model_id": "c3e82fa5d85a41dda7041cb0a9269bf1",
       "version_major": 2,
       "version_minor": 0
      },
      "text/plain": [
       "Widget(value='<iframe src=\"http://localhost:44739/index.html?ui=P_0x7fa839fd0050_1&reconnect=auto\" class=\"pyvi…"
      ]
     },
     "metadata": {},
     "output_type": "display_data"
    }
   ],
   "source": [
    "# Cross-section showing P-wave ray path lengths\n",
    "print(\"P-wave path lengths through cells:\")\n",
    "plotter2 = model.mesh.plot_cross_section(\n",
    "    plane_normal=plane_normal,\n",
    "    property_name='ray_P_wave_P_lengths',\n",
    "    show_rays=[P_ray],\n",
    ")\n",
    "plotter2.camera.position = (8000, 6000, 10000)\n",
    "# Use INTERACTIVE switch\n",
    "plotter2.show(interactive=INTERACTIVE)"
   ]
  },
  {
   "cell_type": "markdown",
   "id": "fbf5b556",
   "metadata": {},
   "source": [
    "## 5. Sensitivity Kernels\n",
    "\n",
    "Compute travel-time sensitivity kernels: K = -L / v² for each cell."
   ]
  },
  {
   "cell_type": "code",
   "execution_count": 8,
   "id": "0f1e9231",
   "metadata": {},
   "outputs": [
    {
     "name": "stdout",
     "output_type": "stream",
     "text": [
      "Stored sensitivity kernel as cell data: 'K_P_vp'\n",
      "Stored sensitivity kernel as cell data: 'K_S_vs'\n",
      "Stored sensitivity kernel as cell data: 'K_ScS_vs'\n",
      "P kernel range: -6.227009 to -0.000000 s²/km³\n",
      "S kernel range: -20.497514 to -0.000000 s²/km³\n",
      "ScS kernel range: -16.644645 to -0.000000 s²/km³\n",
      "Non-zero P kernel cells: 24\n",
      "Non-zero S kernel cells: 24\n",
      "Non-zero ScS kernel cells: 30\n"
     ]
    }
   ],
   "source": [
    "# Compute sensitivity kernels for P and S waves\n",
    "P_kernel = model.mesh.compute_sensitivity_kernel(\n",
    "    P_ray, property_name='vp', attach_name='K_P_vp', epsilon=1e-6\n",
    ")\n",
    "S_kernel = model.mesh.compute_sensitivity_kernel(\n",
    "    S_ray, property_name='vs', attach_name='K_S_vs', epsilon=1e-6\n",
    ")\n",
    "ScS_kernel = model.mesh.compute_sensitivity_kernel(\n",
    "    ScS_ray, property_name='vs', attach_name='K_ScS_vs', epsilon=1e-6\n",
    ")\n",
    "print(f\"P kernel range: {P_kernel.min():.6f} to {P_kernel.max():.6f} s²/km³\")\n",
    "print(f\"S kernel range: {S_kernel.min():.6f} to {S_kernel.max():.6f} s²/km³\")\n",
    "print(f\"ScS kernel range: {ScS_kernel.min():.6f} to {ScS_kernel.max():.6f} s²/km³\")\n",
    "print(f\"Non-zero P kernel cells: {np.count_nonzero(P_kernel)}\")\n",
    "print(f\"Non-zero S kernel cells: {np.count_nonzero(S_kernel)}\")\n",
    "print(f\"Non-zero ScS kernel cells: {np.count_nonzero(ScS_kernel)}\")"
   ]
  },
  {
   "cell_type": "code",
   "execution_count": 9,
   "id": "6acdfff9",
   "metadata": {},
   "outputs": [
    {
     "name": "stdout",
     "output_type": "stream",
     "text": [
      "-6.227009327536293\n"
     ]
    }
   ],
   "source": [
    "print(np.min(P_kernel))"
   ]
  },
  {
   "cell_type": "code",
   "execution_count": 10,
   "id": "79557b60",
   "metadata": {},
   "outputs": [
    {
     "data": {
      "application/vnd.jupyter.widget-view+json": {
       "model_id": "c500c51922734e6ea398e03dc0aefb0b",
       "version_major": 2,
       "version_minor": 0
      },
      "text/plain": [
       "Widget(value='<iframe src=\"http://localhost:44739/index.html?ui=P_0x7fa7f7969150_2&reconnect=auto\" class=\"pyvi…"
      ]
     },
     "metadata": {},
     "output_type": "display_data"
    }
   ],
   "source": [
    "plotter3 = model.mesh.plot_cross_section(\n",
    "    plane_normal,\n",
    "    property_name='K_P_vp',\n",
    "    show_rays=[P_ray],\n",
    "    cmap='magma',\n",
    ")\n",
    "# Interactive display for kernel cross-section\n",
    "plotter3.show(interactive=INTERACTIVE)"
   ]
  },
  {
   "cell_type": "markdown",
   "id": "94f07480",
   "metadata": {},
   "source": [
    "## 6. Multiple Ray Kernels\n",
    "\n",
    "Combine kernels from multiple rays for enhanced sensitivity."
   ]
  },
  {
   "cell_type": "code",
   "execution_count": 12,
   "id": "0fad5637",
   "metadata": {},
   "outputs": [
    {
     "name": "stdout",
     "output_type": "stream",
     "text": [
      "Stored summed sensitivity kernel as cell data: 'K_combined_vs'\n",
      "Combined kernel range: -34.014923 to 0.000000\n",
      "Combined kernel non-zero cells: 47\n"
     ]
    }
   ],
   "source": [
    "# Sum kernels from multiple rays\n",
    "if len(rays) >= 2:\n",
    "    combined_kernel = model.mesh.compute_sensitivity_kernel(\n",
    "        rays[1:],  # Use S and ScS rays\n",
    "        property_name='vs',\n",
    "        attach_name='K_combined_vs',\n",
    "        accumulate='sum'\n",
    "    )\n",
    "    print(f\"Combined kernel range: {combined_kernel.min():.6f} to {combined_kernel.max():.6f}\")\n",
    "    print(f\"Combined kernel non-zero cells: {np.count_nonzero(combined_kernel)}\")"
   ]
  },
  {
   "cell_type": "code",
   "execution_count": 13,
   "id": "2a538a93",
   "metadata": {},
   "outputs": [
    {
     "data": {
      "application/vnd.jupyter.widget-view+json": {
       "model_id": "d76e5c6ff1f64b29a33e70896280889b",
       "version_major": 2,
       "version_minor": 0
      },
      "text/plain": [
       "Widget(value='<iframe src=\"http://localhost:44739/index.html?ui=P_0x7fa7e0a95990_3&reconnect=auto\" class=\"pyvi…"
      ]
     },
     "metadata": {},
     "output_type": "display_data"
    }
   ],
   "source": [
    "plotter4 = model.mesh.plot_cross_section(\n",
    "    plane_normal,\n",
    "    property_name='K_combined_vs',\n",
    "    show_rays=[S_ray, ScS_ray],\n",
    "    cmap='magma',\n",
    ")\n",
    "# Interactive display\n",
    "plotter4.show(interactive=INTERACTIVE)"
   ]
  },
  {
   "cell_type": "markdown",
   "id": "6f3119a6",
   "metadata": {},
   "source": [
    "## 8. Export Results\n",
    "\n",
    "Save mesh with all computed properties for further analysis."
   ]
  },
  {
   "cell_type": "code",
   "execution_count": 14,
   "id": "50fb29a1",
   "metadata": {},
   "outputs": [
    {
     "name": "stdout",
     "output_type": "stream",
     "text": [
      "Saved mesh to prem_mesh_with_rays_kernels.vtu\n",
      "Saved metadata to prem_mesh_with_rays_kernels_metadata.json\n",
      "Mesh properties summary:\n",
      "  cell_data keys: ['gmsh:physical', 'gmsh:geometrical', 'layer_0-layer_1-layer_2-gmsh:bounding_entities', 'region', 'vp', 'vs', 'rho', 'ray_P_wave_P_lengths', 'ray_S_wave_S_lengths', 'ray_ScS_wave_ScS_lengths', 'K_P_vp', 'K_S_vs', 'K_ScS_vs', 'K_combined_vs']\n",
      "Saved 14 properties to VTU file:\n",
      "  - gmsh:physical\n",
      "  - gmsh:geometrical\n",
      "  - layer_0-layer_1-layer_2-gmsh:bounding_entities\n",
      "  - region\n",
      "  - vp\n",
      "  - vs\n",
      "  - rho\n",
      "  - ray_P_wave_P_lengths\n",
      "  - ray_S_wave_S_lengths\n",
      "  - ray_ScS_wave_ScS_lengths\n",
      "  - K_P_vp\n",
      "  - K_S_vs\n",
      "  - K_ScS_vs\n",
      "  - K_combined_vs\n",
      "\n",
      "Files created:\n",
      "  - prem_mesh_with_rays_kernels.vtu (mesh + all data)\n",
      "  - prem_mesh_with_rays_kernels_metadata.json (property list)\n"
     ]
    }
   ],
   "source": [
    "# Save mesh with rays and kernels\n",
    "model.mesh.save('prem_mesh_with_rays_kernels')\n",
    "\n",
    "# Show what was saved\n",
    "info = model.mesh.list_properties(show_stats=False)\n",
    "print(f\"Saved {len(info['cell_data'])} properties to VTU file:\")\n",
    "for prop in info['cell_data'].keys():\n",
    "    print(f\"  - {prop}\")\n",
    "\n",
    "print(\"\\nFiles created:\")\n",
    "print(\"  - prem_mesh_with_rays_kernels.vtu (mesh + all data)\")\n",
    "print(\"  - prem_mesh_with_rays_kernels_metadata.json (property list)\")"
   ]
  }
 ],
 "metadata": {
  "kernelspec": {
   "display_name": "masters",
   "language": "python",
   "name": "python3"
  },
  "language_info": {
   "codemirror_mode": {
    "name": "ipython",
    "version": 3
   },
   "file_extension": ".py",
   "mimetype": "text/x-python",
   "name": "python",
   "nbconvert_exporter": "python",
   "pygments_lexer": "ipython3",
   "version": "3.11.14"
  }
 },
 "nbformat": 4,
 "nbformat_minor": 5
}
