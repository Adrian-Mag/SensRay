{
 "cells": [
  {
   "cell_type": "markdown",
   "id": "eb5d7534",
   "metadata": {},
   "source": [
    "# SensRay Ray Tracing & Sensitivity Kernels Demo\n",
    "\n",
    "This notebook demonstrates:\n",
    "- Ray tracing with ObsPy/TauP integration\n",
    "- Computing per-cell ray path lengths\n",
    "- Calculating sensitivity kernels\n",
    "- Visualizing rays and kernels in cross-sections"
   ]
  },
  {
   "cell_type": "code",
   "execution_count": 1,
   "id": "41256a18",
   "metadata": {},
   "outputs": [
    {
     "name": "stdout",
     "output_type": "stream",
     "text": [
      "Configured PyVista for static/off-screen plotting\n"
     ]
    }
   ],
   "source": [
    "import os\n",
    "# Top-level INTERACTIVE switch: set to True for interactive Jupyter widgets,\n",
    "# or False to force static/off-screen rendering and enable screenshot-based outputs.\n",
    "INTERACTIVE = False\n",
    "\n",
    "# If not interactive, set PyVista to off-screen mode. If interactive, prefer ipyvtklink/panel.\n",
    "if not INTERACTIVE:\n",
    "    os.environ['PYVISTA_OFF_SCREEN'] = 'true'\n",
    "    os.environ['PYVISTA_USE_IPYVTK'] = 'false'\n",
    "else:\n",
    "    os.environ.pop('PYVISTA_OFF_SCREEN', None)\n",
    "    # Prefer ipyvtklink for Jupyter interactive 3D plots (requires ipyvtklink installed)\n",
    "    os.environ['PYVISTA_USE_IPYVTK'] = 'true'\n",
    "\n",
    "\n",
    "# Configure PyVista backend according to INTERACTIVE flag\n",
    "try:\n",
    "    import pyvista as pv\n",
    "    if INTERACTIVE:\n",
    "        try:\n",
    "            pv.set_jupyter_backend('ipyvtklink')\n",
    "            print(\"Configured PyVista for interactive plotting using ipyvtklink\")\n",
    "        except Exception:\n",
    "            try:\n",
    "                pv.set_jupyter_backend('panel')\n",
    "                print(\"Configured PyVista for interactive plotting using panel\")\n",
    "            except Exception as e:\n",
    "                print(f\"Warning: Could not set interactive PyVista backend: {e}\")\n",
    "    else:\n",
    "        pv.set_jupyter_backend('static')\n",
    "        print(\"Configured PyVista for static/off-screen plotting\")\n",
    "except Exception as e:\n",
    "    print(f\"Warning: Could not import/configure pyvista: {e}\")"
   ]
  },
  {
   "cell_type": "markdown",
   "id": "97df225c",
   "metadata": {},
   "source": [
    "## 1. Setup Model and Mesh\n",
    "\n",
    "Create a model and mesh for ray tracing experiments."
   ]
  },
  {
   "cell_type": "markdown",
   "id": "ecfb0bec",
   "metadata": {},
   "source": [
    "### Creating a layered tetrahedral mesh (discontinuities)\n",
    "\n",
    "This demo uses a layered, concentric-sphere tetrahedral mesh so you can control resolution across major internal interfaces (discontinuities). The mesher accepts these main controls:\n",
    "\n",
    "- `radii` (list of floats, ascending): interface radii in km (last entry must be the outer radius).\n",
    "- `H_layers` (list of floats): target element size per layer (km). If `None`, `mesh_size_km` is used for all layers.\n",
    "- `W_trans` (list of floats): half-widths for smooth size transitions at interfaces (km). If omitted, a default ~0.2*layer_thickness is used.\n",
    "\n",
    "Notes:\n",
    "- Units are kilometres throughout the API.\n",
    "- For a uniform sphere just omit `radii` and set `mesh_size_km`.\n",
    "\n",
    "Example (run this when creating a new mesh):\n",
    "```python\n",
    "radii = [1221.5, 3480.0, 6371.0]\n",
    "H_layers = [500.0, 500.0, 300.0]\n",
    "W_trans = [50.0, 100.0]  # optional\n",
    "# Create mesh (use do_optimize=False for faster development)\n",
    "model.create_mesh(mesh_size_km=1000.0, radii=radii, H_layers=H_layers, W_trans=W_trans, do_optimize=False)\n",
    "model.mesh.populate_properties(['vp', 'vs', 'rho'])\n",
    "model.mesh.save('prem_mesh.vtu')  # file extension recommended\n",
    "```"
   ]
  },
  {
   "cell_type": "code",
   "execution_count": 2,
   "id": "4967df2d",
   "metadata": {},
   "outputs": [
    {
     "name": "stdout",
     "output_type": "stream",
     "text": [
      "Loaded mesh from prem_mesh.vtu\n",
      "Loaded metadata: 18337 cells, 3988 points\n",
      "Loaded existing mesh from prem_mesh\n",
      "Created mesh: 18337 cells\n"
     ]
    }
   ],
   "source": [
    "import numpy as np\n",
    "from scipy.sparse import csr_matrix\n",
    "from sensray import CoordinateConverter, PlanetModel\n",
    "\n",
    "# Load model and create mesh\n",
    "model = PlanetModel.from_standard_model('prem')\n",
    "# Create mesh and save if not exist, otherwise load existing\n",
    "mesh_path = \"prem_mesh\"\n",
    "try:\n",
    "    model.create_mesh(from_file=mesh_path)\n",
    "    print(f\"Loaded existing mesh from {mesh_path}\")\n",
    "except FileNotFoundError:\n",
    "    print(\"Creating new mesh...\")\n",
    "    radii = [1221.5, 3480.0, 6371]\n",
    "    H_layers = [1000, 1000, 600]\n",
    "    model.create_mesh(mesh_size_km=1000, radii=radii, H_layers=H_layers)\n",
    "    model.mesh.populate_properties(['vp', 'vs', 'rho'])\n",
    "    model.mesh.save(\"prem_mesh\")  # Save mesh to VT\n",
    "print(f\"Created mesh: {model.mesh.mesh.n_cells} cells\")"
   ]
  },
  {
   "cell_type": "markdown",
   "id": "9b4089b9",
   "metadata": {},
   "source": [
    "## 2. Define Source-Receiver Geometry\n",
    "\n",
    "Generate random earthquake-receiver positions with a function, or define manually."
   ]
  },
  {
   "cell_type": "code",
   "execution_count": 3,
   "id": "83744590",
   "metadata": {},
   "outputs": [],
   "source": [
    "# function to generate random points\n",
    "def point(pointType=\"Source\", minLat=-90, maxLat=90, minLon=-180, maxLon=180, minDepth=0, maxDepth=700):\n",
    "    if pointType == \"Source\":\n",
    "        lat = np.random.uniform(minLat, maxLat)\n",
    "        lon = np.random.uniform(minLon, maxLon)\n",
    "        depth = np.random.uniform(minDepth, maxDepth)  # depth in km\n",
    "        return (lat, lon, depth)\n",
    "    elif pointType == \"Receiver\":\n",
    "        lat = np.random.uniform(minLat, maxLat)\n",
    "        lon = np.random.uniform(minLon, maxLon)\n",
    "        return (lat, lon)\n",
    "    else:\n",
    "        raise ValueError(\"pointType must be 'Source' or 'Receiver'\")\n",
    "\n",
    "\n",
    "phases = [\"P\", \"S\", \"ScS\"]\n",
    "\n",
    "# # Generate source and receiver points and combinations\n",
    "# sources = [point(\"Source\", minDepth=150, maxDepth=150) for _ in range(2)]\n",
    "# receivers = [point(\"Receiver\", maxDepth=0) for _ in range(5)]\n",
    "# srp = [prod + tuple([phases]) for prod in product(sources, receivers)]\n",
    "\n",
    "# testing with one source-receiver pair - same as initial test\n",
    "source_lat, source_lon, source_depth = 0.0, 0.0, 150.0  # Equator, 150 km depth\n",
    "receiver_lat, receiver_lon = 30.0, 45.0  # Surface station\n",
    "srp = [((source_lat, source_lon, source_depth), (receiver_lat, receiver_lon), [\"P\", \"S\", \"ScS\"])]\n",
    "\n"
   ]
  },
  {
   "cell_type": "markdown",
   "id": "ba61d8be",
   "metadata": {},
   "source": [
    "## 3. Ray Tracing with TauP and Travel Time calculation\n",
    "\n",
    "Class creation of forward operator G with parameters of model, and list of (source, receiver, phases). \n",
    "Computes ray paths for different seismic phases of interest for each source-receiver pair and add to kernel matrix. Make sparse matrix and dot with the model to compute the travel times for the phases of interest. "
   ]
  },
  {
   "cell_type": "code",
   "execution_count": 4,
   "id": "bf335dec",
   "metadata": {},
   "outputs": [
    {
     "name": "stdout",
     "output_type": "stream",
     "text": [
      "Source: (0.0°, 0.0°, 150.0 km)\n",
      "Receiver: (30.0°, 45.0°, 0 km)\n",
      "Phases: ['P', 'S', 'ScS']\n"
     ]
    },
    {
     "name": "stdout",
     "output_type": "stream",
     "text": [
      "Building obspy.taup model for '/home/matth/miniconda3/envs/masters-project/lib/python3.11/site-packages/sensray/models/prem.nd' ...\n",
      "filename = /home/matth/miniconda3/envs/masters-project/lib/python3.11/site-packages/sensray/models/prem.nd\n",
      "Done reading velocity model.\n",
      "Radius of model . is 6371.0\n",
      "Using parameters provided in TauP_config.ini (or defaults if not) to call SlownessModel...\n",
      "Parameters are:\n",
      "taup.create.min_delta_p = 0.1 sec / radian\n",
      "taup.create.max_delta_p = 11.0 sec / radian\n",
      "taup.create.max_depth_interval = 115.0 kilometers\n",
      "taup.create.max_range_interval = 0.04363323129985824 degrees\n",
      "taup.create.max_interp_error = 0.05 seconds\n",
      "taup.create.allow_inner_core_s = True\n",
      "Slow model  553 P layers,646 S layers\n",
      "Done calculating Tau branches.\n",
      "Done Saving /tmp/prem.npz\n",
      "Method run is done, but not necessarily successful.\n",
      "Found 3 ray paths:\n",
      "  1. P: 535.08 s, 227 points\n",
      "Stored ray path lengths as cell data: 'ray_P_wave_P_lengths'\n",
      "Stored sensitivity kernel as cell data: 'K_P_vp'\n",
      "  2. S: 969.32 s, 276 points\n",
      "Stored ray path lengths as cell data: 'ray_S_wave_S_lengths'\n",
      "Stored sensitivity kernel as cell data: 'K_S_vs'\n",
      "  3. ScS: 1110.00 s, 512 points\n",
      "Stored ray path lengths as cell data: 'ray_ScS_wave_ScS_lengths'\n",
      "Stored sensitivity kernel as cell data: 'K_ScS_vs'\n",
      "P Kernel Matrix shape: (1, 18337), nnz: 27\n",
      "S Kernel Matrix shape: (1, 18337), nnz: 28\n",
      "ScS Kernel Matrix shape: (1, 18337), nnz: 32\n",
      "Computing travel times from kernels...\n",
      "P travel times: min -527.60 s, max -527.60 s\n",
      "S travel times: min -954.93 s, max -954.93 s\n",
      "ScS travel times: min -1104.01 s, max -1104.01 s\n",
      "{'P': array([-527.59524658]), 'S': array([-954.92538853]), 'ScS': array([-1104.01364073])}\n"
     ]
    }
   ],
   "source": [
    "class G:\n",
    "    def __init__(self, model, srp):\n",
    "        self.__model = model\n",
    "        self.__srp = srp  # list of source, rec, phases of interest\n",
    "\n",
    "        # set up kernel matrix dict\n",
    "        self.__kernel_matrices = {}\n",
    "\n",
    "        # Calculate kernel matrix\n",
    "        self.__calcMatrix__()\n",
    "        \n",
    "    def __calcMatrix__(self):\n",
    "        # calculate kernels and add to dense matrix\n",
    "        for (source_lat, source_lon, source_depth), (receiver_lat, receiver_lon), phases in self.__srp:\n",
    "            self.__computeKernels__(self.__model, source_lat, source_lon, source_depth, receiver_lat, receiver_lon, phases)\n",
    "\n",
    "        # transform dense matrices to sparse\n",
    "        for phase, kernel_mat in self.__kernel_matrices.items():\n",
    "            self.__kernel_matrices[phase] = csr_matrix(np.array(kernel_mat))\n",
    "            print(f\"{phase} Kernel Matrix shape: {self.__kernel_matrices[phase].shape}, nnz: {self.__kernel_matrices[phase].nnz}\")\n",
    "\n",
    "    def __computeKernels__(self, model, source_lat, source_lon, source_depth, receiver_lat, receiver_lon, phases):\n",
    "        print(f\"Source: ({source_lat}°, {source_lon}°, {source_depth} km)\")\n",
    "        print(f\"Receiver: ({receiver_lat}°, {receiver_lon}°, 0 km)\")\n",
    "        print(f\"Phases: {phases}\")\n",
    "        \n",
    "        # Compute great-circle plane normal for cross-sections\n",
    "        plane_normal = CoordinateConverter.compute_gc_plane_normal(\n",
    "            source_lat, source_lon, receiver_lat, receiver_lon\n",
    "        )\n",
    "\n",
    "        # Get ray paths for P and S waves\n",
    "        rays = model.taupy_model.get_ray_paths_geo(\n",
    "            source_depth_in_km=source_depth,\n",
    "            source_latitude_in_deg=source_lat,\n",
    "            source_longitude_in_deg=source_lon,\n",
    "            receiver_latitude_in_deg=receiver_lat,\n",
    "            receiver_longitude_in_deg=receiver_lon,\n",
    "            phase_list=phases\n",
    "        )\n",
    "\n",
    "        # kernel calculation\n",
    "        print(f\"Found {len(rays)} ray paths:\")\n",
    "        for i, ray in enumerate(rays):\n",
    "            print(f\"  {i+1}. {ray.phase.name}: {ray.time:.2f} s, {len(ray.path)} points\")\n",
    "            length = model.mesh.add_ray_to_mesh(ray, f\"{ray.phase.name}_wave\")\n",
    "            kernel = model.mesh.compute_sensitivity_kernel(\n",
    "                ray, property_name=f'v{ray.phase.name[0].lower()}', attach_name=f'K_{ray.phase.name}_v{ray.phase.name[0].lower()}', epsilon=1e-6\n",
    "            )\n",
    "            # Adds a new entry if phase not already in dict\n",
    "            if ray.phase.name not in self.__kernel_matrices:\n",
    "                self.__kernel_matrices[ray.phase.name] = []\n",
    "            self.__kernel_matrices[ray.phase.name].append(kernel)\n",
    "\n",
    "\n",
    "    def __apply__(self, model=None):\n",
    "        # compute travel times from kernels\n",
    "        print(\"Computing travel times from kernels...\")\n",
    "        times = {}\n",
    "        for phase, kernel_matrix in self.__kernel_matrices.items():\n",
    "            if kernel_matrix.shape[0] > 0:\n",
    "                # use provided model or default\n",
    "                model = self.__model if model is None else model\n",
    "                times[phase] = kernel_matrix.dot(model.mesh.mesh.cell_data['v' + phase[0].lower()])\n",
    "                print(f\"{phase} travel times: min {times[phase].min():.2f} s, max {times[phase].max():.2f} s\")\n",
    "\n",
    "        return times\n",
    "\n",
    "appl = G(model, srp)\n",
    "travel_times = appl.__apply__(model)\n",
    "print(travel_times)"
   ]
  },
  {
   "cell_type": "markdown",
   "id": "6f3119a6",
   "metadata": {},
   "source": [
    "## 4. Export Results\n",
    "\n",
    "Save mesh with all computed properties for further analysis."
   ]
  },
  {
   "cell_type": "code",
   "execution_count": 5,
   "id": "50fb29a1",
   "metadata": {},
   "outputs": [
    {
     "name": "stdout",
     "output_type": "stream",
     "text": [
      "Saved mesh to prem_mesh_with_rays_kernels.vtu\n",
      "Saved metadata to prem_mesh_with_rays_kernels_metadata.json\n",
      "Mesh properties summary:\n",
      "  cell_data keys: ['gmsh:physical', 'gmsh:geometrical', 'layer_0-layer_1-layer_2-gmsh:bounding_entities', 'region', 'vp', 'vs', 'rho', 'ray_P_wave_P_lengths', 'K_P_vp', 'ray_S_wave_S_lengths', 'K_S_vs', 'ray_ScS_wave_ScS_lengths', 'K_ScS_vs']\n",
      "Saved 13 properties to VTU file:\n",
      "  - gmsh:physical\n",
      "  - gmsh:geometrical\n",
      "  - layer_0-layer_1-layer_2-gmsh:bounding_entities\n",
      "  - region\n",
      "  - vp\n",
      "  - vs\n",
      "  - rho\n",
      "  - ray_P_wave_P_lengths\n",
      "  - K_P_vp\n",
      "  - ray_S_wave_S_lengths\n",
      "  - K_S_vs\n",
      "  - ray_ScS_wave_ScS_lengths\n",
      "  - K_ScS_vs\n",
      "\n",
      "Files created:\n",
      "  - prem_mesh_with_rays_kernels.vtu (mesh + all data)\n",
      "  - prem_mesh_with_rays_kernels_metadata.json (property list)\n"
     ]
    }
   ],
   "source": [
    "# Save mesh with rays and kernels\n",
    "model.mesh.save('prem_mesh_with_rays_kernels')\n",
    "\n",
    "# Show what was saved\n",
    "info = model.mesh.list_properties(show_stats=False)\n",
    "print(f\"Saved {len(info['cell_data'])} properties to VTU file:\")\n",
    "for prop in info['cell_data'].keys():\n",
    "    print(f\"  - {prop}\")\n",
    "\n",
    "print(\"\\nFiles created:\")\n",
    "print(\"  - prem_mesh_with_rays_kernels.vtu (mesh + all data)\")\n",
    "print(\"  - prem_mesh_with_rays_kernels_metadata.json (property list)\")"
   ]
  }
 ],
 "metadata": {
  "kernelspec": {
   "display_name": "masters-project",
   "language": "python",
   "name": "python3"
  },
  "language_info": {
   "codemirror_mode": {
    "name": "ipython",
    "version": 3
   },
   "file_extension": ".py",
   "mimetype": "text/x-python",
   "name": "python",
   "nbconvert_exporter": "python",
   "pygments_lexer": "ipython3",
   "version": "3.11.13"
  }
 },
 "nbformat": 4,
 "nbformat_minor": 5
}
